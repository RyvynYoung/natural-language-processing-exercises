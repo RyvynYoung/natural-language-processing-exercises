{
  "nbformat": 4,
  "nbformat_minor": 0,
  "metadata": {
    "colab": {
      "name": "Copy of web_scraping_workflow.ipynb",
      "provenance": [],
      "collapsed_sections": [],
      "toc_visible": true,
      "include_colab_link": true
    },
    "kernelspec": {
      "name": "python3",
      "display_name": "Python 3"
    }
  },
  "cells": [
    {
      "cell_type": "markdown",
      "metadata": {
        "id": "view-in-github",
        "colab_type": "text"
      },
      "source": [
        "<a href=\"https://colab.research.google.com/github/RyvynYoung/natural-language-processing-exercises/blob/main/Copy_of_web_scraping_workflow.ipynb\" target=\"_parent\"><img src=\"https://colab.research.google.com/assets/colab-badge.svg\" alt=\"Open In Colab\"/></a>"
      ]
    },
    {
      "cell_type": "markdown",
      "metadata": {
        "id": "sI91dg6z2dE7"
      },
      "source": [
        "## Getting Started\n",
        "1. Create your own notebook to work in.\n",
        "2. Click the 'File' tab in the upper-left corner of the menu bar and click 'Save a copy in Drive' to create your own copy of this Google Colab notebook that you can edit and save.\n",
        "3. As you complete exercises, be sure to Save your work by either clicking on the 'File' tab in the menu bar and 'Save' or using `cmd+S`.\n",
        "\n",
        "### Orientation:\n",
        "- This notebook is composed of cells. Each cell will contain either text or Python code.\n",
        "- To run the Python code cells, click the \"play\" button next to the cell or click your cursor inside the cell and do \"Shift + Enter\" on your keyboard. \n",
        "- Run the code cells in order from top to bottom, because order matters in programming and code.\n",
        "\n",
        "### Troubleshooting\n",
        "- If the notebook appears to not be working correctly, then restart this environment by going up to **Runtime** then select **Restart Runtime**. \n",
        "- If the notebook is running correctly, but you need a fresh copy of this original notebook, go [here](https://colab.research.google.com/drive/1EX6EjkVw7BEo85hQIwbv7TPqsr-SuGG5?usp=sharing) and repeat the steps above in 'Getting Started'.\n",
        "- Save frequently (`cmd+S`) and save often!\n",
        "\n",
        "### Push to Github\n",
        "- You can push up your notebook to Github by clicking on the 'File' tab in the upper-left corner of the menu bar and choosing to 'Save a Copy to Github.'\n",
        "\n",
        "## Notebook Objectives\n",
        "This notebook...\n",
        "- models the Web Scraping Workflow.\n",
        "- walks you through acquiring data from a web page using the BeautifulSoup and requests libraries.\n",
        "- prepares you for the nlp curriculum exercises that culminate in an acquire.py file with functions that make your process reproducible.\n",
        "- is a safe place to dig and explore!"
      ]
    },
    {
      "cell_type": "code",
      "metadata": {
        "id": "rt8JbUeL9H0L"
      },
      "source": [
        "# Imports\n",
        "\n",
        "import pandas as pd\n",
        "import numpy as np\n",
        "from requests import get\n",
        "from bs4 import BeautifulSoup\n",
        "import os"
      ],
      "execution_count": 1,
      "outputs": []
    },
    {
      "cell_type": "markdown",
      "metadata": {
        "id": "eHWJDKrs9RNQ"
      },
      "source": [
        "## Workflow\n",
        "\n",
        "### Inspect the Web Page\n",
        "\n",
        "Here is where we make our plan for scraping our target website. We can inspect the HTML of a web page in a couple of ways:\n",
        "\n",
        "- We can inspect the source code of a web page by prefixing the url in the address bar of our browser with 'view-source:' like in the example below. This method displays the HTML in your browser as it is returned to you in your request, without any extra information like javascript code.\n",
        "```python\n",
        "view-source:https://ryanorsinger.com\n",
        "```\n",
        "OR\n",
        "\n",
        "- We can right-click on the part of the page we are interested in scraping and choose 'Inspect.' \n",
        "\n",
        ">**Right-click on the card and choose 'Inspect.'**\n",
        "\n",
        "![Image of Inspecting](https://i.pinimg.com/564x/ae/ff/e5/aeffe504496de41a48e4f694f47fd4d8.jpg)"
      ]
    },
    {
      "cell_type": "markdown",
      "metadata": {
        "id": "3X4pbYd7_mmI"
      },
      "source": [
        "___"
      ]
    },
    {
      "cell_type": "markdown",
      "metadata": {
        "id": "x1fHqAoa-Emv"
      },
      "source": [
        "### Make the Request\n",
        "\n",
        "Here is where we use the Python `requests` library to **obtain the HTML** from our target website. Remember, we did this step in obtaining data from an API before."
      ]
    },
    {
      "cell_type": "code",
      "metadata": {
        "id": "gAzTo3gF-RKF"
      },
      "source": [
        "url = 'https://ryanorsinger.com'\n",
        "headers = {'User-Agent': 'Codeup Data Science'} "
      ],
      "execution_count": 2,
      "outputs": []
    },
    {
      "cell_type": "code",
      "metadata": {
        "id": "If-5TdtZ-YuC"
      },
      "source": [
        "response = get(url, headers=headers)"
      ],
      "execution_count": 3,
      "outputs": []
    },
    {
      "cell_type": "code",
      "metadata": {
        "id": "E3deuNMy-ZR4",
        "outputId": "db58579a-61d4-44a9-bab9-bb6e6b5e545f",
        "colab": {
          "base_uri": "https://localhost:8080/"
        }
      },
      "source": [
        "response.ok"
      ],
      "execution_count": 4,
      "outputs": [
        {
          "output_type": "execute_result",
          "data": {
            "text/plain": [
              "True"
            ]
          },
          "metadata": {
            "tags": []
          },
          "execution_count": 4
        }
      ]
    },
    {
      "cell_type": "code",
      "metadata": {
        "id": "3bU7CKJIIs6B",
        "outputId": "2c5ba73d-b5b6-4f53-901c-facbe2e3339f",
        "colab": {
          "base_uri": "https://localhost:8080/",
          "height": 154
        }
      },
      "source": [
        "# Take a look at the string of HTML returned from our request to the main blog page.\n",
        "\n",
        "response.text"
      ],
      "execution_count": 5,
      "outputs": [
        {
          "output_type": "execute_result",
          "data": {
            "application/vnd.google.colaboratory.intrinsic+json": {
              "type": "string"
            },
            "text/plain": [
              "'<!DOCTYPE html>\\n<html lang=\"en\">\\n<head>\\n\\n    <meta charset=\"utf-8\" />\\n    <meta http-equiv=\"X-UA-Compatible\" content=\"IE=edge\" />\\n\\n    <title>Programming Log</title>\\n    <meta name=\"HandheldFriendly\" content=\"True\" />\\n    <meta name=\"viewport\" content=\"width=device-width, initial-scale=1.0\" />\\n\\n    <link rel=\"stylesheet\" type=\"text/css\" href=\"/assets/built/screen.css?v=25fe62e8ab\" />\\n\\n    <meta name=\"description\" content=\"Thoughts, stories and ideas.\" />\\n    <link rel=\"shortcut icon\" href=\"/favicon.png\" type=\"image/png\" />\\n    <link rel=\"canonical\" href=\"https://ryanorsinger.com/\" />\\n    <meta name=\"referrer\" content=\"no-referrer-when-downgrade\" />\\n    \\n    <meta property=\"og:site_name\" content=\"Programming Log\" />\\n    <meta property=\"og:type\" content=\"website\" />\\n    <meta property=\"og:title\" content=\"Programming Log\" />\\n    <meta property=\"og:description\" content=\"Thoughts, stories and ideas.\" />\\n    <meta property=\"og:url\" content=\"https://ryanorsinger.com/\" />\\n    <meta property=\"og:image\" content=\"https://casper.ghost.org/v1.0.0/images/blog-cover.jpg\" />\\n    <meta name=\"twitter:card\" content=\"summary_large_image\" />\\n    <meta name=\"twitter:title\" content=\"Programming Log\" />\\n    <meta name=\"twitter:description\" content=\"Thoughts, stories and ideas.\" />\\n    <meta name=\"twitter:url\" content=\"https://ryanorsinger.com/\" />\\n    <meta name=\"twitter:image\" content=\"https://casper.ghost.org/v1.0.0/images/blog-cover.jpg\" />\\n    <meta property=\"og:image:width\" content=\"2000\" />\\n    <meta property=\"og:image:height\" content=\"666\" />\\n    \\n    <script type=\"application/ld+json\">\\n{\\n    \"@context\": \"https://schema.org\",\\n    \"@type\": \"WebSite\",\\n    \"publisher\": {\\n        \"@type\": \"Organization\",\\n        \"name\": \"Programming Log\",\\n        \"logo\": \"https://ryanorsinger.com/content/images/2019/08/love-books-1.png\"\\n    },\\n    \"url\": \"https://ryanorsinger.com/\",\\n    \"image\": {\\n        \"@type\": \"ImageObject\",\\n        \"url\": \"https://casper.ghost.org/v1.0.0/images/blog-cover.jpg\",\\n        \"width\": 2000,\\n        \"height\": 666\\n    },\\n    \"mainEntityOfPage\": {\\n        \"@type\": \"WebPage\",\\n        \"@id\": \"https://ryanorsinger.com/\"\\n    },\\n    \"description\": \"Thoughts, stories and ideas.\"\\n}\\n    </script>\\n\\n    <script src=\"/public/ghost-sdk.min.js?v=25fe62e8ab\"></script>\\n<script>\\nghost.init({\\n\\tclientId: \"ghost-frontend\",\\n\\tclientSecret: \"ff7c64d06226\"\\n});\\n</script>\\n    <meta name=\"generator\" content=\"Ghost 1.24\" />\\n    <link rel=\"alternate\" type=\"application/rss+xml\" title=\"Programming Log\" href=\"https://ryanorsinger.com/rss/\" />\\n\\n</head>\\n<body class=\"home-template\">\\n\\n    <div class=\"site-wrapper\">\\n\\n        \\n<header class=\"site-header outer \" style=\"background-image: url(https://casper.ghost.org/v1.0.0/images/blog-cover.jpg)\">\\n    <div class=\"inner\">\\n        <div class=\"site-header-content\">\\n            <h1 class=\"site-title\">\\n                    <img class=\"site-logo\" src=\"/content/images/2019/08/love-books-1.png\" alt=\"Programming Log\" />\\n            </h1>\\n            <h2 class=\"site-description\">Thoughts, stories and ideas.</h2>\\n        </div>\\n        <nav class=\"site-nav\">\\n    <div class=\"site-nav-left\">\\n            <ul class=\"nav\" role=\"menu\">\\n    <li class=\"nav-home nav-current\" role=\"menuitem\"><a href=\"https://ryanorsinger.com/\">Home</a></li>\\n</ul>\\n\\n    </div>\\n    <div class=\"site-nav-right\">\\n        <div class=\"social-links\">\\n        </div>\\n            <a class=\"rss-button\" href=\"https://feedly.com/i/subscription/feed/https://ryanorsinger.com/rss/\" target=\"_blank\" rel=\"noopener\"><svg xmlns=\"http://www.w3.org/2000/svg\" viewBox=\"0 0 24 24\"><circle cx=\"6.18\" cy=\"17.82\" r=\"2.18\"/><path d=\"M4 4.44v2.83c7.03 0 12.73 5.7 12.73 12.73h2.83c0-8.59-6.97-15.56-15.56-15.56zm0 5.66v2.83c3.9 0 7.07 3.17 7.07 7.07h2.83c0-5.47-4.43-9.9-9.9-9.9z\"/></svg>\\n</a>\\n    </div>\\n</nav>\\n    </div>\\n</header>\\n\\n<main id=\"site-main\" class=\"site-main outer\">\\n    <div class=\"inner\">\\n\\n        <div class=\"post-feed\">\\n\\n                <article class=\"post-card post no-image\">\\n    <div class=\"post-card-content\">\\n        <a class=\"post-card-content-link\" href=\"/air-fried-tofu/\">\\n            <header class=\"post-card-header\">\\n                <h2 class=\"post-card-title\">Air Fried Marinated Tofu</h2>\\n            </header>\\n            <section class=\"post-card-excerpt\">\\n                <p>Drain then press tofu for 30-45 minutes. A tofu press is a good idea, but not necessary. Prepare the Marinade Prepare the marinade while the tofu is pressing 1-2 ounces of brown rice</p>\\n            </section>\\n        </a>\\n        <footer class=\"post-card-meta\">\\n\\n            <ul class=\"author-list\">\\n                <li class=\"author-list-item\">\\n\\n                    <div class=\"author-name-tooltip\">\\n                        Ryan Orsinger\\n                    </div>\\n\\n                        <a href=\"/author/ryan/\" class=\"static-avatar\"><img class=\"author-profile-image\" src=\"//www.gravatar.com/avatar/87aa917618034fcac7d589652b2110a5?s&#x3D;250&amp;d&#x3D;mm&amp;r&#x3D;x\" alt=\"Ryan Orsinger\" /></a>\\n                </li>\\n            </ul>\\n\\n            <span class=\"reading-time\">1 min read</span>\\n\\n        </footer>\\n    </div>\\n</article>\\n\\n\\n                <article class=\"post-card post no-image\">\\n    <div class=\"post-card-content\">\\n        <a class=\"post-card-content-link\" href=\"/using-gitigore/\">\\n            <header class=\"post-card-header\">\\n                <h2 class=\"post-card-title\">Using Gitigore</h2>\\n            </header>\\n            <section class=\"post-card-excerpt\">\\n                <p>Gitignore Exercises Exercise 1 Change directories into your home directory Make a new directory called git_practice Initialize this as a repo Use VS Code to make new file called .gitignore (code .gitignore)</p>\\n            </section>\\n        </a>\\n        <footer class=\"post-card-meta\">\\n\\n            <ul class=\"author-list\">\\n                <li class=\"author-list-item\">\\n\\n                    <div class=\"author-name-tooltip\">\\n                        Ryan Orsinger\\n                    </div>\\n\\n                        <a href=\"/author/ryan/\" class=\"static-avatar\"><img class=\"author-profile-image\" src=\"//www.gravatar.com/avatar/87aa917618034fcac7d589652b2110a5?s&#x3D;250&amp;d&#x3D;mm&amp;r&#x3D;x\" alt=\"Ryan Orsinger\" /></a>\\n                </li>\\n            </ul>\\n\\n            <span class=\"reading-time\">1 min read</span>\\n\\n        </footer>\\n    </div>\\n</article>\\n\\n\\n                <article class=\"post-card post no-image\">\\n    <div class=\"post-card-content\">\\n        <a class=\"post-card-content-link\" href=\"/air-fried-avacados/\">\\n            <header class=\"post-card-header\">\\n                <h2 class=\"post-card-title\">Air Fried Avocados</h2>\\n            </header>\\n            <section class=\"post-card-excerpt\">\\n                <p>Ingredients: 2 large avacados Salt, pepper Directions: Cut 2 large avacados in half Remove the seeds Leave on the avacado skin Cut each half into quarters, so we have avacado slices in eights</p>\\n            </section>\\n        </a>\\n        <footer class=\"post-card-meta\">\\n\\n            <ul class=\"author-list\">\\n                <li class=\"author-list-item\">\\n\\n                    <div class=\"author-name-tooltip\">\\n                        Ryan Orsinger\\n                    </div>\\n\\n                        <a href=\"/author/ryan/\" class=\"static-avatar\"><img class=\"author-profile-image\" src=\"//www.gravatar.com/avatar/87aa917618034fcac7d589652b2110a5?s&#x3D;250&amp;d&#x3D;mm&amp;r&#x3D;x\" alt=\"Ryan Orsinger\" /></a>\\n                </li>\\n            </ul>\\n\\n            <span class=\"reading-time\">1 min read</span>\\n\\n        </footer>\\n    </div>\\n</article>\\n\\n\\n                <article class=\"post-card post tag-julia-language tag-getting-started tag-learning-to-code tag-jupyter-notebooks no-image\">\\n    <div class=\"post-card-content\">\\n        <a class=\"post-card-content-link\" href=\"/run-julia-language-on-jupyter-notebook/\">\\n            <header class=\"post-card-header\">\\n                    <span class=\"post-card-tags\">julia language</span>\\n                <h2 class=\"post-card-title\">How to Run Julia Language on Jupyter Notebooks</h2>\\n            </header>\\n            <section class=\"post-card-excerpt\">\\n                <p>Rationale Julia is high performance general purpose programming language built to be fast and dynamic with high level syntax, making it more direct to learn. Juila performance benchmarks Built around matrix/vectorized computations.</p>\\n            </section>\\n        </a>\\n        <footer class=\"post-card-meta\">\\n\\n            <ul class=\"author-list\">\\n                <li class=\"author-list-item\">\\n\\n                    <div class=\"author-name-tooltip\">\\n                        Ryan Orsinger\\n                    </div>\\n\\n                        <a href=\"/author/ryan/\" class=\"static-avatar\"><img class=\"author-profile-image\" src=\"//www.gravatar.com/avatar/87aa917618034fcac7d589652b2110a5?s&#x3D;250&amp;d&#x3D;mm&amp;r&#x3D;x\" alt=\"Ryan Orsinger\" /></a>\\n                </li>\\n            </ul>\\n\\n            <span class=\"reading-time\">1 min read</span>\\n\\n        </footer>\\n    </div>\\n</article>\\n\\n\\n                <article class=\"post-card post no-image\">\\n    <div class=\"post-card-content\">\\n        <a class=\"post-card-content-link\" href=\"/intro-to-binary/\">\\n            <header class=\"post-card-header\">\\n                <h2 class=\"post-card-title\">Intro to Binary</h2>\\n            </header>\\n            <section class=\"post-card-excerpt\">\\n                <p>Intro to Binary Numbers - Why should you care? &quot;Binary&quot; adjective relating to, composed of, or involving two things. relating to, using, or expressed in a system of numerical notation that</p>\\n            </section>\\n        </a>\\n        <footer class=\"post-card-meta\">\\n\\n            <ul class=\"author-list\">\\n                <li class=\"author-list-item\">\\n\\n                    <div class=\"author-name-tooltip\">\\n                        Ryan Orsinger\\n                    </div>\\n\\n                        <a href=\"/author/ryan/\" class=\"static-avatar\"><img class=\"author-profile-image\" src=\"//www.gravatar.com/avatar/87aa917618034fcac7d589652b2110a5?s&#x3D;250&amp;d&#x3D;mm&amp;r&#x3D;x\" alt=\"Ryan Orsinger\" /></a>\\n                </li>\\n            </ul>\\n\\n            <span class=\"reading-time\">2 min read</span>\\n\\n        </footer>\\n    </div>\\n</article>\\n\\n\\n                <article class=\"post-card post no-image\">\\n    <div class=\"post-card-content\">\\n        <a class=\"post-card-content-link\" href=\"/effective-practice-with-flash-cards/\">\\n            <header class=\"post-card-header\">\\n                <h2 class=\"post-card-title\">Effective Practice with Flash Cards</h2>\\n            </header>\\n            <section class=\"post-card-excerpt\">\\n                <p>Effective practice with flash-cards is about speed and recall. Our focus with flash-cards is to intentionally build automatic recall with spaced repetition. Who is this article for? Anyone who needs to practice a</p>\\n            </section>\\n        </a>\\n        <footer class=\"post-card-meta\">\\n\\n            <ul class=\"author-list\">\\n                <li class=\"author-list-item\">\\n\\n                    <div class=\"author-name-tooltip\">\\n                        Ryan Orsinger\\n                    </div>\\n\\n                        <a href=\"/author/ryan/\" class=\"static-avatar\"><img class=\"author-profile-image\" src=\"//www.gravatar.com/avatar/87aa917618034fcac7d589652b2110a5?s&#x3D;250&amp;d&#x3D;mm&amp;r&#x3D;x\" alt=\"Ryan Orsinger\" /></a>\\n                </li>\\n            </ul>\\n\\n            <span class=\"reading-time\">3 min read</span>\\n\\n        </footer>\\n    </div>\\n</article>\\n\\n\\n                <article class=\"post-card post no-image\">\\n    <div class=\"post-card-content\">\\n        <a class=\"post-card-content-link\" href=\"/intro-to-testing-and-test-driven-development/\">\\n            <header class=\"post-card-header\">\\n                <h2 class=\"post-card-title\">Gentle Introduction Test Driven Development (TDD)</h2>\\n            </header>\\n            <section class=\"post-card-excerpt\">\\n                <p>My Intro to Testing JS  tutorial is hot off the press! This exercise starts with a set of existing tests to use as a template. We start with writing tests to drive the</p>\\n            </section>\\n        </a>\\n        <footer class=\"post-card-meta\">\\n\\n            <ul class=\"author-list\">\\n                <li class=\"author-list-item\">\\n\\n                    <div class=\"author-name-tooltip\">\\n                        Ryan Orsinger\\n                    </div>\\n\\n                        <a href=\"/author/ryan/\" class=\"static-avatar\"><img class=\"author-profile-image\" src=\"//www.gravatar.com/avatar/87aa917618034fcac7d589652b2110a5?s&#x3D;250&amp;d&#x3D;mm&amp;r&#x3D;x\" alt=\"Ryan Orsinger\" /></a>\\n                </li>\\n            </ul>\\n\\n            <span class=\"reading-time\">1 min read</span>\\n\\n        </footer>\\n    </div>\\n</article>\\n\\n\\n                <article class=\"post-card post no-image\">\\n    <div class=\"post-card-content\">\\n        <a class=\"post-card-content-link\" href=\"/how-to-practice-a-5-minute-group-presentation/\">\\n            <header class=\"post-card-header\">\\n                <h2 class=\"post-card-title\">Effectively practice a 5-10 minute group presentation</h2>\\n            </header>\\n            <section class=\"post-card-excerpt\">\\n                <p>If you\\'re still working on memorizing your script, then only read off of paper or notecards. No phones because phones = distration. Have one person start the recorder and record the entire group presentation</p>\\n            </section>\\n        </a>\\n        <footer class=\"post-card-meta\">\\n\\n            <ul class=\"author-list\">\\n                <li class=\"author-list-item\">\\n\\n                    <div class=\"author-name-tooltip\">\\n                        Ryan Orsinger\\n                    </div>\\n\\n                        <a href=\"/author/ryan/\" class=\"static-avatar\"><img class=\"author-profile-image\" src=\"//www.gravatar.com/avatar/87aa917618034fcac7d589652b2110a5?s&#x3D;250&amp;d&#x3D;mm&amp;r&#x3D;x\" alt=\"Ryan Orsinger\" /></a>\\n                </li>\\n            </ul>\\n\\n            <span class=\"reading-time\">1 min read</span>\\n\\n        </footer>\\n    </div>\\n</article>\\n\\n\\n                <article class=\"post-card post no-image\">\\n    <div class=\"post-card-content\">\\n        <a class=\"post-card-content-link\" href=\"/cheesy-garlicky/\">\\n            <header class=\"post-card-header\">\\n                <h2 class=\"post-card-title\">Cheesy Garlic Brussel Sprouts</h2>\\n            </header>\\n            <section class=\"post-card-excerpt\">\\n                <p>Dependencies: oven stovetop range microwave pan ingredients: frozen brussel sprouts (hopefully the steam in bag version) olive oil and/or butter mozzarella cheese (recommend tillamook) garlic cloves or pre-diced is ok Directions: From</p>\\n            </section>\\n        </a>\\n        <footer class=\"post-card-meta\">\\n\\n            <ul class=\"author-list\">\\n                <li class=\"author-list-item\">\\n\\n                    <div class=\"author-name-tooltip\">\\n                        Ryan Orsinger\\n                    </div>\\n\\n                        <a href=\"/author/ryan/\" class=\"static-avatar\"><img class=\"author-profile-image\" src=\"//www.gravatar.com/avatar/87aa917618034fcac7d589652b2110a5?s&#x3D;250&amp;d&#x3D;mm&amp;r&#x3D;x\" alt=\"Ryan Orsinger\" /></a>\\n                </li>\\n            </ul>\\n\\n            <span class=\"reading-time\">1 min read</span>\\n\\n        </footer>\\n    </div>\\n</article>\\n\\n\\n                <article class=\"post-card post tag-learning-to-code tag-thinking-programatically no-image\">\\n    <div class=\"post-card-content\">\\n        <a class=\"post-card-content-link\" href=\"/how-to-start-a-programming-exercise/\">\\n            <header class=\"post-card-header\">\\n                    <span class=\"post-card-tags\">Learning to Code</span>\\n                <h2 class=\"post-card-title\">How to get started on a programming exercise</h2>\\n            </header>\\n            <section class=\"post-card-excerpt\">\\n                <p>Scenario: You\\'re learning to code, learning syntax for a programming language, and working on thinking programatically. The lesson video or lecture is completed and now you\\'re now facing a programming problem that is</p>\\n            </section>\\n        </a>\\n        <footer class=\"post-card-meta\">\\n\\n            <ul class=\"author-list\">\\n                <li class=\"author-list-item\">\\n\\n                    <div class=\"author-name-tooltip\">\\n                        Ryan Orsinger\\n                    </div>\\n\\n                        <a href=\"/author/ryan/\" class=\"static-avatar\"><img class=\"author-profile-image\" src=\"//www.gravatar.com/avatar/87aa917618034fcac7d589652b2110a5?s&#x3D;250&amp;d&#x3D;mm&amp;r&#x3D;x\" alt=\"Ryan Orsinger\" /></a>\\n                </li>\\n            </ul>\\n\\n            <span class=\"reading-time\">2 min read</span>\\n\\n        </footer>\\n    </div>\\n</article>\\n\\n\\n                <article class=\"post-card post\">\\n        <a class=\"post-card-image-link\" href=\"/fresh-air/\">\\n            <div class=\"post-card-image\" style=\"background-image: url(/content/images/2018/08/Salem-Willows-Waterfront.jpg)\"></div>\\n        </a>\\n    <div class=\"post-card-content\">\\n        <a class=\"post-card-content-link\" href=\"/fresh-air/\">\\n            <header class=\"post-card-header\">\\n                <h2 class=\"post-card-title\">Breaths of fresh air!</h2>\\n            </header>\\n            <section class=\"post-card-excerpt\">\\n                <p>It\\'s a great pleasure to share a few things that are rejuvinating breaths of very fresh air. These are game changers: new ways to fall in love with the essense of things all</p>\\n            </section>\\n        </a>\\n        <footer class=\"post-card-meta\">\\n\\n            <ul class=\"author-list\">\\n                <li class=\"author-list-item\">\\n\\n                    <div class=\"author-name-tooltip\">\\n                        Ryan Orsinger\\n                    </div>\\n\\n                        <a href=\"/author/ryan/\" class=\"static-avatar\"><img class=\"author-profile-image\" src=\"//www.gravatar.com/avatar/87aa917618034fcac7d589652b2110a5?s&#x3D;250&amp;d&#x3D;mm&amp;r&#x3D;x\" alt=\"Ryan Orsinger\" /></a>\\n                </li>\\n            </ul>\\n\\n            <span class=\"reading-time\">2 min read</span>\\n\\n        </footer>\\n    </div>\\n</article>\\n\\n        </div>\\n\\n    </div>\\n</main>\\n\\n\\n        <footer class=\"site-footer outer\">\\n            <div class=\"site-footer-content inner\">\\n                <section class=\"copyright\"><a href=\"https://ryanorsinger.com\">Programming Log</a> &copy; 2020</section>\\n                <nav class=\"site-footer-nav\">\\n                    <a href=\"https://ryanorsinger.com\">Latest Posts</a>\\n                    \\n                    \\n                    <a href=\"https://ghost.org\" target=\"_blank\" rel=\"noopener\">Ghost</a>\\n                </nav>\\n            </div>\\n        </footer>\\n\\n    </div>\\n\\n\\n    <script\\n        src=\"https://code.jquery.com/jquery-3.2.1.min.js\"\\n        integrity=\"sha256-hwg4gsxgFZhOsEEamdOYGBf13FyQuiTwlAQgxVSNgt4=\"\\n        crossorigin=\"anonymous\">\\n    </script>\\n    <script type=\"text/javascript\" src=\"/assets/js/jquery.fitvids.js?v=25fe62e8ab\"></script>\\n\\n    <script>\\n        // maxPages is a global variable that is needed to determine\\n        // if we need to load more pages for the infinitescroll, or if\\n        // we reached the last page already.\\n        var maxPages = parseInt(\\'1\\');\\n    </script>\\n    <script src=\"/assets/js/infinitescroll.js?v=25fe62e8ab\"></script>\\n\\n    \\n\\n    <img src=\"https://traffic-analytics.glitch.me/counter.png?fallback=MY_WEBSITE&color=black\" alt=\"\" style=\"vertical-align: bottom;\" aria-hidden=\"true\">\\n\\n</body>\\n</html>\\n'"
            ]
          },
          "metadata": {
            "tags": []
          },
          "execution_count": 5
        }
      ]
    },
    {
      "cell_type": "markdown",
      "metadata": {
        "id": "b3TeGUyG_oi9"
      },
      "source": [
        "___"
      ]
    },
    {
      "cell_type": "markdown",
      "metadata": {
        "id": "z3GQrIW2-bK-"
      },
      "source": [
        "### Make the Soup\n",
        "\n",
        "Here is where we pass our html and choice of parser to `BeautifulSoup` to **parse our HTML and create our Soup object** for searching and navigating in the next step. We need to pass either a string of HTML or an HTML file to Beautiful Soup to parse the HTML."
      ]
    },
    {
      "cell_type": "code",
      "metadata": {
        "id": "9ULsglAr-gUc"
      },
      "source": [
        "# Create the Soup object by passing our string of HTML and choice of parser to BeautifulSoup.\n",
        "\n",
        "soup = BeautifulSoup(response.text, 'html.parser')"
      ],
      "execution_count": 6,
      "outputs": []
    },
    {
      "cell_type": "markdown",
      "metadata": {
        "id": "8_xi13zfYlPb"
      },
      "source": [
        "#### Reproducible Soup\n",
        "\n",
        "We can make the above steps into a function for future use if we like."
      ]
    },
    {
      "cell_type": "code",
      "metadata": {
        "id": "EkJmjmO5YTrs"
      },
      "source": [
        "# Create a helper function that requests and parses HTML returning a soup object.\n",
        "\n",
        "def make_soup(url):\n",
        "    '''\n",
        "    This helper function takes in a url and requests and parses HTML\n",
        "    returning a soup object.\n",
        "    '''\n",
        "    headers = {'User-Agent': 'Codeup Data Science'} \n",
        "    response = get(url, headers=headers)\n",
        "    soup = BeautifulSoup(response.text, 'html.parser')\n",
        "    return soup"
      ],
      "execution_count": 7,
      "outputs": []
    },
    {
      "cell_type": "markdown",
      "metadata": {
        "id": "HnOy3BLTGE1F"
      },
      "source": [
        "___"
      ]
    },
    {
      "cell_type": "markdown",
      "metadata": {
        "id": "14Rv5lDUJJxc"
      },
      "source": [
        "## Extract the Data"
      ]
    },
    {
      "cell_type": "markdown",
      "metadata": {
        "id": "RL4YTSxIGGCj"
      },
      "source": [
        "### Scrape Article Cards on Blog Homepage\n",
        "\n",
        "Here, we **extract the data** we want from our soup using BeautifulSoup methods with element names, attributes, etc."
      ]
    },
    {
      "cell_type": "markdown",
      "metadata": {
        "id": "7NTPtFFK_Mnf"
      },
      "source": [
        "**Find the HTML element that holds all of the elements for the entire article card.**\n",
        "\n",
        "![Image of HTML code for title](https://i.pinimg.com/564x/0a/89/dc/0a89dc531a65d286614f88ffd374cd04.jpg)"
      ]
    },
    {
      "cell_type": "code",
      "metadata": {
        "id": "0_z2r0v--gsV",
        "outputId": "6eb0b8fc-1c6b-4799-cc57-6aa45b497745",
        "colab": {
          "base_uri": "https://localhost:8080/"
        }
      },
      "source": [
        "# Filter the Soup to obtain the elements from the first article card on the main blog page.\n",
        "\n",
        "card = soup.find('article') \n",
        "card"
      ],
      "execution_count": 8,
      "outputs": [
        {
          "output_type": "execute_result",
          "data": {
            "text/plain": [
              "<article class=\"post-card post no-image\">\n",
              "<div class=\"post-card-content\">\n",
              "<a class=\"post-card-content-link\" href=\"/air-fried-tofu/\">\n",
              "<header class=\"post-card-header\">\n",
              "<h2 class=\"post-card-title\">Air Fried Marinated Tofu</h2>\n",
              "</header>\n",
              "<section class=\"post-card-excerpt\">\n",
              "<p>Drain then press tofu for 30-45 minutes. A tofu press is a good idea, but not necessary. Prepare the Marinade Prepare the marinade while the tofu is pressing 1-2 ounces of brown rice</p>\n",
              "</section>\n",
              "</a>\n",
              "<footer class=\"post-card-meta\">\n",
              "<ul class=\"author-list\">\n",
              "<li class=\"author-list-item\">\n",
              "<div class=\"author-name-tooltip\">\n",
              "                        Ryan Orsinger\n",
              "                    </div>\n",
              "<a class=\"static-avatar\" href=\"/author/ryan/\"><img alt=\"Ryan Orsinger\" class=\"author-profile-image\" src=\"//www.gravatar.com/avatar/87aa917618034fcac7d589652b2110a5?s=250&amp;d=mm&amp;r=x\"/></a>\n",
              "</li>\n",
              "</ul>\n",
              "<span class=\"reading-time\">1 min read</span>\n",
              "</footer>\n",
              "</div>\n",
              "</article>"
            ]
          },
          "metadata": {
            "tags": []
          },
          "execution_count": 8
        }
      ]
    },
    {
      "cell_type": "markdown",
      "metadata": {
        "id": "nZEc5BQl9OkR"
      },
      "source": [
        "___\n",
        "**Find the HTML element that holds the title of the article card.**\n",
        "\n",
        "![Image HTML for Title](https://i.pinimg.com/564x/f6/64/4c/f6644c79fb6198a1602071093160866e.jpg)"
      ]
    },
    {
      "cell_type": "code",
      "metadata": {
        "id": "i31uT_dk-gKE",
        "outputId": "a247dc56-ee62-4d6b-aa58-daaaf343a41a",
        "colab": {
          "base_uri": "https://localhost:8080/",
          "height": 35
        }
      },
      "source": [
        "# Filter the article card to obtain the title. (just like you filtered the Soup object).\n",
        "\n",
        "title = card.find('h2').text\n",
        "title"
      ],
      "execution_count": 9,
      "outputs": [
        {
          "output_type": "execute_result",
          "data": {
            "application/vnd.google.colaboratory.intrinsic+json": {
              "type": "string"
            },
            "text/plain": [
              "'Air Fried Marinated Tofu'"
            ]
          },
          "metadata": {
            "tags": []
          },
          "execution_count": 9
        }
      ]
    },
    {
      "cell_type": "markdown",
      "metadata": {
        "id": "kY4Rf4JA_enj"
      },
      "source": [
        "___\n",
        "**Find the HTML element that holds the text we want.**\n",
        "\n",
        "![Image for HTML paragraph](https://i.pinimg.com/564x/14/39/9a/14399a28bd9f23fa03964416f6d2cd05.jpg)"
      ]
    },
    {
      "cell_type": "code",
      "metadata": {
        "id": "U2Kj2yg0-hmh",
        "outputId": "7c019eae-1cf5-41e7-d949-1e0ac5d7d4c1",
        "colab": {
          "base_uri": "https://localhost:8080/",
          "height": 52
        }
      },
      "source": [
        "# Filter the article card to obtain the text preview.\n",
        "\n",
        "content = card.find('p').text\n",
        "content"
      ],
      "execution_count": 10,
      "outputs": [
        {
          "output_type": "execute_result",
          "data": {
            "application/vnd.google.colaboratory.intrinsic+json": {
              "type": "string"
            },
            "text/plain": [
              "'Drain then press tofu for 30-45 minutes. A tofu press is a good idea, but not necessary. Prepare the Marinade Prepare the marinade while the tofu is pressing 1-2 ounces of brown rice'"
            ]
          },
          "metadata": {
            "tags": []
          },
          "execution_count": 10
        }
      ]
    },
    {
      "cell_type": "code",
      "metadata": {
        "id": "0aWJHStrPmby",
        "outputId": "58361d8a-43dc-42ff-cbe0-92b52dfd409d",
        "colab": {
          "base_uri": "https://localhost:8080/"
        }
      },
      "source": [
        "# Create a dictionary holding the title and content for the article card.\n",
        "\n",
        "card_dict = {'title': title, 'content': content}\n",
        "card_dict"
      ],
      "execution_count": 11,
      "outputs": [
        {
          "output_type": "execute_result",
          "data": {
            "text/plain": [
              "{'content': 'Drain then press tofu for 30-45 minutes. A tofu press is a good idea, but not necessary. Prepare the Marinade Prepare the marinade while the tofu is pressing 1-2 ounces of brown rice',\n",
              " 'title': 'Air Fried Marinated Tofu'}"
            ]
          },
          "metadata": {
            "tags": []
          },
          "execution_count": 11
        }
      ]
    },
    {
      "cell_type": "code",
      "metadata": {
        "id": "fUZyyMr_MqyT",
        "outputId": "d319f380-c180-4dcb-860c-f444e5bb6313",
        "colab": {
          "base_uri": "https://localhost:8080/"
        }
      },
      "source": [
        "# Use .find_all() to filter the soup to obtain a list of the HTML for ALL of the article cards on the blog page.\n",
        "\n",
        "card_list = soup.find_all('article')\n",
        "card_list[:2]"
      ],
      "execution_count": 12,
      "outputs": [
        {
          "output_type": "execute_result",
          "data": {
            "text/plain": [
              "[<article class=\"post-card post no-image\">\n",
              " <div class=\"post-card-content\">\n",
              " <a class=\"post-card-content-link\" href=\"/air-fried-tofu/\">\n",
              " <header class=\"post-card-header\">\n",
              " <h2 class=\"post-card-title\">Air Fried Marinated Tofu</h2>\n",
              " </header>\n",
              " <section class=\"post-card-excerpt\">\n",
              " <p>Drain then press tofu for 30-45 minutes. A tofu press is a good idea, but not necessary. Prepare the Marinade Prepare the marinade while the tofu is pressing 1-2 ounces of brown rice</p>\n",
              " </section>\n",
              " </a>\n",
              " <footer class=\"post-card-meta\">\n",
              " <ul class=\"author-list\">\n",
              " <li class=\"author-list-item\">\n",
              " <div class=\"author-name-tooltip\">\n",
              "                         Ryan Orsinger\n",
              "                     </div>\n",
              " <a class=\"static-avatar\" href=\"/author/ryan/\"><img alt=\"Ryan Orsinger\" class=\"author-profile-image\" src=\"//www.gravatar.com/avatar/87aa917618034fcac7d589652b2110a5?s=250&amp;d=mm&amp;r=x\"/></a>\n",
              " </li>\n",
              " </ul>\n",
              " <span class=\"reading-time\">1 min read</span>\n",
              " </footer>\n",
              " </div>\n",
              " </article>, <article class=\"post-card post no-image\">\n",
              " <div class=\"post-card-content\">\n",
              " <a class=\"post-card-content-link\" href=\"/using-gitigore/\">\n",
              " <header class=\"post-card-header\">\n",
              " <h2 class=\"post-card-title\">Using Gitigore</h2>\n",
              " </header>\n",
              " <section class=\"post-card-excerpt\">\n",
              " <p>Gitignore Exercises Exercise 1 Change directories into your home directory Make a new directory called git_practice Initialize this as a repo Use VS Code to make new file called .gitignore (code .gitignore)</p>\n",
              " </section>\n",
              " </a>\n",
              " <footer class=\"post-card-meta\">\n",
              " <ul class=\"author-list\">\n",
              " <li class=\"author-list-item\">\n",
              " <div class=\"author-name-tooltip\">\n",
              "                         Ryan Orsinger\n",
              "                     </div>\n",
              " <a class=\"static-avatar\" href=\"/author/ryan/\"><img alt=\"Ryan Orsinger\" class=\"author-profile-image\" src=\"//www.gravatar.com/avatar/87aa917618034fcac7d589652b2110a5?s=250&amp;d=mm&amp;r=x\"/></a>\n",
              " </li>\n",
              " </ul>\n",
              " <span class=\"reading-time\">1 min read</span>\n",
              " </footer>\n",
              " </div>\n",
              " </article>]"
            ]
          },
          "metadata": {
            "tags": []
          },
          "execution_count": 12
        }
      ]
    },
    {
      "cell_type": "code",
      "metadata": {
        "id": "XnicbH7YQHKF",
        "outputId": "1b990be4-86b9-4e7a-d9e4-427b95291411",
        "colab": {
          "base_uri": "https://localhost:8080/"
        }
      },
      "source": [
        "# Here's that first article card we worked with above, but now we have a list containing the elements from all 11 cards on the page.\n",
        "\n",
        "print(card_list[0])\n",
        "print()\n",
        "print(f'There are {len(card_list)} cards in our list.')"
      ],
      "execution_count": 13,
      "outputs": [
        {
          "output_type": "stream",
          "text": [
            "<article class=\"post-card post no-image\">\n",
            "<div class=\"post-card-content\">\n",
            "<a class=\"post-card-content-link\" href=\"/air-fried-tofu/\">\n",
            "<header class=\"post-card-header\">\n",
            "<h2 class=\"post-card-title\">Air Fried Marinated Tofu</h2>\n",
            "</header>\n",
            "<section class=\"post-card-excerpt\">\n",
            "<p>Drain then press tofu for 30-45 minutes. A tofu press is a good idea, but not necessary. Prepare the Marinade Prepare the marinade while the tofu is pressing 1-2 ounces of brown rice</p>\n",
            "</section>\n",
            "</a>\n",
            "<footer class=\"post-card-meta\">\n",
            "<ul class=\"author-list\">\n",
            "<li class=\"author-list-item\">\n",
            "<div class=\"author-name-tooltip\">\n",
            "                        Ryan Orsinger\n",
            "                    </div>\n",
            "<a class=\"static-avatar\" href=\"/author/ryan/\"><img alt=\"Ryan Orsinger\" class=\"author-profile-image\" src=\"//www.gravatar.com/avatar/87aa917618034fcac7d589652b2110a5?s=250&amp;d=mm&amp;r=x\"/></a>\n",
            "</li>\n",
            "</ul>\n",
            "<span class=\"reading-time\">1 min read</span>\n",
            "</footer>\n",
            "</div>\n",
            "</article>\n",
            "\n",
            "There are 11 cards in our list.\n"
          ],
          "name": "stdout"
        }
      ]
    },
    {
      "cell_type": "markdown",
      "metadata": {
        "id": "08GeKQkwPEGf"
      },
      "source": [
        "___"
      ]
    },
    {
      "cell_type": "markdown",
      "metadata": {
        "id": "NZBEJtmqPEyb"
      },
      "source": [
        "### Your Turn\n",
        "\n",
        "- Reference the process we went through above to obtain a list of dictionaries, one for each of the eleven cards in our `card_list` variable. Each dictionary should contain the keys `title` and `content` like the `card_dict` dictionary we created above for our first card.\n",
        "- That list of dictionaries can easily be turned into that beloved and familiar pandas DataFrame, so end this stage by converting your list to a df you can use in the future."
      ]
    },
    {
      "cell_type": "markdown",
      "metadata": {
        "id": "rIlPqAVYMrHL"
      },
      "source": [
        "#### List of Dictionaries\n",
        "\n",
        "- You might want to use a loop to run through the above steps to obtain the title and content from a card, create a dictionary for that card, and add that dictionary to a list.\n",
        "\n"
      ]
    },
    {
      "cell_type": "code",
      "metadata": {
        "id": "WXEkoWMoROnQ"
      },
      "source": [
        "# Create a list containing a dictionary, card_dict, for each each of the 11 article cards on the main blog page.\n",
        "def get_card_info(card):\n",
        "  title = card.find('h2').text\n",
        "  content = card.find('p').text\n",
        "  relative_url = card.find('a').get('href')\n",
        "  read_time = card.find('span', class_='reading-time')\n",
        "  card_dict = {'title':title, 'content':content, 'relative_url':relative_url, 'read_time':read_time}\n",
        "  return card_dict"
      ],
      "execution_count": 14,
      "outputs": []
    },
    {
      "cell_type": "code",
      "metadata": {
        "id": "i7AiHfk3RO3a"
      },
      "source": [
        "# Convert your list of dictionaries into a pandas df.\n",
        "dict_list = []\n",
        "\n",
        "for card in card_list:\n",
        "  card_info = get_card_info(card)\n",
        "  dict_list.append(card_info)\n",
        "\n",
        "card_df = pd.DataFrame(dict_list)\n"
      ],
      "execution_count": 15,
      "outputs": []
    },
    {
      "cell_type": "code",
      "metadata": {
        "id": "_NmFZf9mBObl",
        "outputId": "9069e240-669b-47a0-d735-150a16682837",
        "colab": {
          "base_uri": "https://localhost:8080/",
          "height": 441
        }
      },
      "source": [
        "card_df"
      ],
      "execution_count": 16,
      "outputs": [
        {
          "output_type": "execute_result",
          "data": {
            "text/html": [
              "<div>\n",
              "<style scoped>\n",
              "    .dataframe tbody tr th:only-of-type {\n",
              "        vertical-align: middle;\n",
              "    }\n",
              "\n",
              "    .dataframe tbody tr th {\n",
              "        vertical-align: top;\n",
              "    }\n",
              "\n",
              "    .dataframe thead th {\n",
              "        text-align: right;\n",
              "    }\n",
              "</style>\n",
              "<table border=\"1\" class=\"dataframe\">\n",
              "  <thead>\n",
              "    <tr style=\"text-align: right;\">\n",
              "      <th></th>\n",
              "      <th>title</th>\n",
              "      <th>content</th>\n",
              "      <th>relative_url</th>\n",
              "      <th>read_time</th>\n",
              "    </tr>\n",
              "  </thead>\n",
              "  <tbody>\n",
              "    <tr>\n",
              "      <th>0</th>\n",
              "      <td>Air Fried Marinated Tofu</td>\n",
              "      <td>Drain then press tofu for 30-45 minutes. A tof...</td>\n",
              "      <td>/air-fried-tofu/</td>\n",
              "      <td>[1 min read]</td>\n",
              "    </tr>\n",
              "    <tr>\n",
              "      <th>1</th>\n",
              "      <td>Using Gitigore</td>\n",
              "      <td>Gitignore Exercises Exercise 1 Change director...</td>\n",
              "      <td>/using-gitigore/</td>\n",
              "      <td>[1 min read]</td>\n",
              "    </tr>\n",
              "    <tr>\n",
              "      <th>2</th>\n",
              "      <td>Air Fried Avocados</td>\n",
              "      <td>Ingredients: 2 large avacados Salt, pepper Dir...</td>\n",
              "      <td>/air-fried-avacados/</td>\n",
              "      <td>[1 min read]</td>\n",
              "    </tr>\n",
              "    <tr>\n",
              "      <th>3</th>\n",
              "      <td>How to Run Julia Language on Jupyter Notebooks</td>\n",
              "      <td>Rationale Julia is high performance general pu...</td>\n",
              "      <td>/run-julia-language-on-jupyter-notebook/</td>\n",
              "      <td>[1 min read]</td>\n",
              "    </tr>\n",
              "    <tr>\n",
              "      <th>4</th>\n",
              "      <td>Intro to Binary</td>\n",
              "      <td>Intro to Binary Numbers - Why should you care?...</td>\n",
              "      <td>/intro-to-binary/</td>\n",
              "      <td>[2 min read]</td>\n",
              "    </tr>\n",
              "    <tr>\n",
              "      <th>5</th>\n",
              "      <td>Effective Practice with Flash Cards</td>\n",
              "      <td>Effective practice with flash-cards is about s...</td>\n",
              "      <td>/effective-practice-with-flash-cards/</td>\n",
              "      <td>[3 min read]</td>\n",
              "    </tr>\n",
              "    <tr>\n",
              "      <th>6</th>\n",
              "      <td>Gentle Introduction Test Driven Development (TDD)</td>\n",
              "      <td>My Intro to Testing JS  tutorial is hot off th...</td>\n",
              "      <td>/intro-to-testing-and-test-driven-development/</td>\n",
              "      <td>[1 min read]</td>\n",
              "    </tr>\n",
              "    <tr>\n",
              "      <th>7</th>\n",
              "      <td>Effectively practice a 5-10 minute group prese...</td>\n",
              "      <td>If you're still working on memorizing your scr...</td>\n",
              "      <td>/how-to-practice-a-5-minute-group-presentation/</td>\n",
              "      <td>[1 min read]</td>\n",
              "    </tr>\n",
              "    <tr>\n",
              "      <th>8</th>\n",
              "      <td>Cheesy Garlic Brussel Sprouts</td>\n",
              "      <td>Dependencies: oven stovetop range microwave pa...</td>\n",
              "      <td>/cheesy-garlicky/</td>\n",
              "      <td>[1 min read]</td>\n",
              "    </tr>\n",
              "    <tr>\n",
              "      <th>9</th>\n",
              "      <td>How to get started on a programming exercise</td>\n",
              "      <td>Scenario: You're learning to code, learning sy...</td>\n",
              "      <td>/how-to-start-a-programming-exercise/</td>\n",
              "      <td>[2 min read]</td>\n",
              "    </tr>\n",
              "    <tr>\n",
              "      <th>10</th>\n",
              "      <td>Breaths of fresh air!</td>\n",
              "      <td>It's a great pleasure to share a few things th...</td>\n",
              "      <td>/fresh-air/</td>\n",
              "      <td>[2 min read]</td>\n",
              "    </tr>\n",
              "  </tbody>\n",
              "</table>\n",
              "</div>"
            ],
            "text/plain": [
              "                                                title  ...     read_time\n",
              "0                            Air Fried Marinated Tofu  ...  [1 min read]\n",
              "1                                      Using Gitigore  ...  [1 min read]\n",
              "2                                  Air Fried Avocados  ...  [1 min read]\n",
              "3      How to Run Julia Language on Jupyter Notebooks  ...  [1 min read]\n",
              "4                                     Intro to Binary  ...  [2 min read]\n",
              "5                 Effective Practice with Flash Cards  ...  [3 min read]\n",
              "6   Gentle Introduction Test Driven Development (TDD)  ...  [1 min read]\n",
              "7   Effectively practice a 5-10 minute group prese...  ...  [1 min read]\n",
              "8                       Cheesy Garlic Brussel Sprouts  ...  [1 min read]\n",
              "9        How to get started on a programming exercise  ...  [2 min read]\n",
              "10                              Breaths of fresh air!  ...  [2 min read]\n",
              "\n",
              "[11 rows x 4 columns]"
            ]
          },
          "metadata": {
            "tags": []
          },
          "execution_count": 16
        }
      ]
    },
    {
      "cell_type": "markdown",
      "metadata": {
        "id": "hyBtm0tpROXm"
      },
      "source": [
        "#### Scrape More\n",
        "\n",
        "- You can try to grab other elements from the cards and create an even more interesting DataFrame, too."
      ]
    },
    {
      "cell_type": "code",
      "metadata": {
        "id": "AWhTrDIxCv9F",
        "outputId": "0b70070f-80e7-441f-f6b7-527abc458f85",
        "colab": {
          "base_uri": "https://localhost:8080/"
        }
      },
      "source": [
        "# Looking at the HTML below, what else do you think you could scrape from the article cards?\n",
        "\n",
        "card"
      ],
      "execution_count": 17,
      "outputs": [
        {
          "output_type": "execute_result",
          "data": {
            "text/plain": [
              "<article class=\"post-card post\">\n",
              "<a class=\"post-card-image-link\" href=\"/fresh-air/\">\n",
              "<div class=\"post-card-image\" style=\"background-image: url(/content/images/2018/08/Salem-Willows-Waterfront.jpg)\"></div>\n",
              "</a>\n",
              "<div class=\"post-card-content\">\n",
              "<a class=\"post-card-content-link\" href=\"/fresh-air/\">\n",
              "<header class=\"post-card-header\">\n",
              "<h2 class=\"post-card-title\">Breaths of fresh air!</h2>\n",
              "</header>\n",
              "<section class=\"post-card-excerpt\">\n",
              "<p>It's a great pleasure to share a few things that are rejuvinating breaths of very fresh air. These are game changers: new ways to fall in love with the essense of things all</p>\n",
              "</section>\n",
              "</a>\n",
              "<footer class=\"post-card-meta\">\n",
              "<ul class=\"author-list\">\n",
              "<li class=\"author-list-item\">\n",
              "<div class=\"author-name-tooltip\">\n",
              "                        Ryan Orsinger\n",
              "                    </div>\n",
              "<a class=\"static-avatar\" href=\"/author/ryan/\"><img alt=\"Ryan Orsinger\" class=\"author-profile-image\" src=\"//www.gravatar.com/avatar/87aa917618034fcac7d589652b2110a5?s=250&amp;d=mm&amp;r=x\"/></a>\n",
              "</li>\n",
              "</ul>\n",
              "<span class=\"reading-time\">2 min read</span>\n",
              "</footer>\n",
              "</div>\n",
              "</article>"
            ]
          },
          "metadata": {
            "tags": []
          },
          "execution_count": 17
        }
      ]
    },
    {
      "cell_type": "markdown",
      "metadata": {
        "id": "aEKuz1mjFDmd"
      },
      "source": [
        "___\n",
        "**Find the HTML element responsible for holding the relative url for the article page.**\n",
        "\n",
        "![Image for article relative url](https://i.pinimg.com/564x/48/a8/f3/48a8f3373bc9c48a0339bb61c17f7106.jpg)"
      ]
    },
    {
      "cell_type": "code",
      "metadata": {
        "id": "MBO9x9Qn-Yfy",
        "outputId": "41511605-7f82-4628-8da4-2ef944ddd764",
        "colab": {
          "base_uri": "https://localhost:8080/",
          "height": 35
        }
      },
      "source": [
        "# Get the relative url to add to the base url to access and scrape the article page referenced by the article card.\n",
        "\n",
        "relative_url = card.find('a').get('href')\n",
        "relative_url"
      ],
      "execution_count": 18,
      "outputs": [
        {
          "output_type": "execute_result",
          "data": {
            "application/vnd.google.colaboratory.intrinsic+json": {
              "type": "string"
            },
            "text/plain": [
              "'/fresh-air/'"
            ]
          },
          "metadata": {
            "tags": []
          },
          "execution_count": 18
        }
      ]
    },
    {
      "cell_type": "code",
      "metadata": {
        "id": "zMwnqdzMao2e",
        "outputId": "d6128e96-fefb-464f-9f96-4ecec421ffa0",
        "colab": {
          "base_uri": "https://localhost:8080/",
          "height": 35
        }
      },
      "source": [
        "# Concatenate the base url with the relative_url to get the url for the article page.\n",
        "\n",
        "article_url = url + relative_url\n",
        "article_url"
      ],
      "execution_count": 19,
      "outputs": [
        {
          "output_type": "execute_result",
          "data": {
            "application/vnd.google.colaboratory.intrinsic+json": {
              "type": "string"
            },
            "text/plain": [
              "'https://ryanorsinger.com/fresh-air/'"
            ]
          },
          "metadata": {
            "tags": []
          },
          "execution_count": 19
        }
      ]
    },
    {
      "cell_type": "code",
      "metadata": {
        "id": "tz0CGSt0BzCz",
        "outputId": "966dffee-e90b-49ae-874b-0b9bc720d9db",
        "colab": {
          "base_uri": "https://localhost:8080/",
          "height": 577
        }
      },
      "source": [
        "# concat base url with relative_url in my card_df and add to card_df\n",
        "# add base_url to card_df\n",
        "card_df['base_url'] = url\n",
        "card_df\n"
      ],
      "execution_count": 20,
      "outputs": [
        {
          "output_type": "execute_result",
          "data": {
            "text/html": [
              "<div>\n",
              "<style scoped>\n",
              "    .dataframe tbody tr th:only-of-type {\n",
              "        vertical-align: middle;\n",
              "    }\n",
              "\n",
              "    .dataframe tbody tr th {\n",
              "        vertical-align: top;\n",
              "    }\n",
              "\n",
              "    .dataframe thead th {\n",
              "        text-align: right;\n",
              "    }\n",
              "</style>\n",
              "<table border=\"1\" class=\"dataframe\">\n",
              "  <thead>\n",
              "    <tr style=\"text-align: right;\">\n",
              "      <th></th>\n",
              "      <th>title</th>\n",
              "      <th>content</th>\n",
              "      <th>relative_url</th>\n",
              "      <th>read_time</th>\n",
              "      <th>base_url</th>\n",
              "    </tr>\n",
              "  </thead>\n",
              "  <tbody>\n",
              "    <tr>\n",
              "      <th>0</th>\n",
              "      <td>Air Fried Marinated Tofu</td>\n",
              "      <td>Drain then press tofu for 30-45 minutes. A tof...</td>\n",
              "      <td>/air-fried-tofu/</td>\n",
              "      <td>[1 min read]</td>\n",
              "      <td>https://ryanorsinger.com</td>\n",
              "    </tr>\n",
              "    <tr>\n",
              "      <th>1</th>\n",
              "      <td>Using Gitigore</td>\n",
              "      <td>Gitignore Exercises Exercise 1 Change director...</td>\n",
              "      <td>/using-gitigore/</td>\n",
              "      <td>[1 min read]</td>\n",
              "      <td>https://ryanorsinger.com</td>\n",
              "    </tr>\n",
              "    <tr>\n",
              "      <th>2</th>\n",
              "      <td>Air Fried Avocados</td>\n",
              "      <td>Ingredients: 2 large avacados Salt, pepper Dir...</td>\n",
              "      <td>/air-fried-avacados/</td>\n",
              "      <td>[1 min read]</td>\n",
              "      <td>https://ryanorsinger.com</td>\n",
              "    </tr>\n",
              "    <tr>\n",
              "      <th>3</th>\n",
              "      <td>How to Run Julia Language on Jupyter Notebooks</td>\n",
              "      <td>Rationale Julia is high performance general pu...</td>\n",
              "      <td>/run-julia-language-on-jupyter-notebook/</td>\n",
              "      <td>[1 min read]</td>\n",
              "      <td>https://ryanorsinger.com</td>\n",
              "    </tr>\n",
              "    <tr>\n",
              "      <th>4</th>\n",
              "      <td>Intro to Binary</td>\n",
              "      <td>Intro to Binary Numbers - Why should you care?...</td>\n",
              "      <td>/intro-to-binary/</td>\n",
              "      <td>[2 min read]</td>\n",
              "      <td>https://ryanorsinger.com</td>\n",
              "    </tr>\n",
              "    <tr>\n",
              "      <th>5</th>\n",
              "      <td>Effective Practice with Flash Cards</td>\n",
              "      <td>Effective practice with flash-cards is about s...</td>\n",
              "      <td>/effective-practice-with-flash-cards/</td>\n",
              "      <td>[3 min read]</td>\n",
              "      <td>https://ryanorsinger.com</td>\n",
              "    </tr>\n",
              "    <tr>\n",
              "      <th>6</th>\n",
              "      <td>Gentle Introduction Test Driven Development (TDD)</td>\n",
              "      <td>My Intro to Testing JS  tutorial is hot off th...</td>\n",
              "      <td>/intro-to-testing-and-test-driven-development/</td>\n",
              "      <td>[1 min read]</td>\n",
              "      <td>https://ryanorsinger.com</td>\n",
              "    </tr>\n",
              "    <tr>\n",
              "      <th>7</th>\n",
              "      <td>Effectively practice a 5-10 minute group prese...</td>\n",
              "      <td>If you're still working on memorizing your scr...</td>\n",
              "      <td>/how-to-practice-a-5-minute-group-presentation/</td>\n",
              "      <td>[1 min read]</td>\n",
              "      <td>https://ryanorsinger.com</td>\n",
              "    </tr>\n",
              "    <tr>\n",
              "      <th>8</th>\n",
              "      <td>Cheesy Garlic Brussel Sprouts</td>\n",
              "      <td>Dependencies: oven stovetop range microwave pa...</td>\n",
              "      <td>/cheesy-garlicky/</td>\n",
              "      <td>[1 min read]</td>\n",
              "      <td>https://ryanorsinger.com</td>\n",
              "    </tr>\n",
              "    <tr>\n",
              "      <th>9</th>\n",
              "      <td>How to get started on a programming exercise</td>\n",
              "      <td>Scenario: You're learning to code, learning sy...</td>\n",
              "      <td>/how-to-start-a-programming-exercise/</td>\n",
              "      <td>[2 min read]</td>\n",
              "      <td>https://ryanorsinger.com</td>\n",
              "    </tr>\n",
              "    <tr>\n",
              "      <th>10</th>\n",
              "      <td>Breaths of fresh air!</td>\n",
              "      <td>It's a great pleasure to share a few things th...</td>\n",
              "      <td>/fresh-air/</td>\n",
              "      <td>[2 min read]</td>\n",
              "      <td>https://ryanorsinger.com</td>\n",
              "    </tr>\n",
              "  </tbody>\n",
              "</table>\n",
              "</div>"
            ],
            "text/plain": [
              "                                                title  ...                  base_url\n",
              "0                            Air Fried Marinated Tofu  ...  https://ryanorsinger.com\n",
              "1                                      Using Gitigore  ...  https://ryanorsinger.com\n",
              "2                                  Air Fried Avocados  ...  https://ryanorsinger.com\n",
              "3      How to Run Julia Language on Jupyter Notebooks  ...  https://ryanorsinger.com\n",
              "4                                     Intro to Binary  ...  https://ryanorsinger.com\n",
              "5                 Effective Practice with Flash Cards  ...  https://ryanorsinger.com\n",
              "6   Gentle Introduction Test Driven Development (TDD)  ...  https://ryanorsinger.com\n",
              "7   Effectively practice a 5-10 minute group prese...  ...  https://ryanorsinger.com\n",
              "8                       Cheesy Garlic Brussel Sprouts  ...  https://ryanorsinger.com\n",
              "9        How to get started on a programming exercise  ...  https://ryanorsinger.com\n",
              "10                              Breaths of fresh air!  ...  https://ryanorsinger.com\n",
              "\n",
              "[11 rows x 5 columns]"
            ]
          },
          "metadata": {
            "tags": []
          },
          "execution_count": 20
        }
      ]
    },
    {
      "cell_type": "code",
      "metadata": {
        "id": "dql3ekuEbAJ9",
        "outputId": "6ca7c51e-8cba-4e72-cc9c-fa16b9e9dcc8",
        "colab": {
          "base_uri": "https://localhost:8080/"
        }
      },
      "source": [
        "# Add that article_url to the article_dict along with the title and content we scraped from the first article card.\n",
        "\n",
        "article_dict = {'title': title, 'content': content, 'article_url': article_url}\n",
        "article_dict"
      ],
      "execution_count": 21,
      "outputs": [
        {
          "output_type": "execute_result",
          "data": {
            "text/plain": [
              "{'article_url': 'https://ryanorsinger.com/fresh-air/',\n",
              " 'content': 'Drain then press tofu for 30-45 minutes. A tofu press is a good idea, but not necessary. Prepare the Marinade Prepare the marinade while the tofu is pressing 1-2 ounces of brown rice',\n",
              " 'title': 'Air Fried Marinated Tofu'}"
            ]
          },
          "metadata": {
            "tags": []
          },
          "execution_count": 21
        }
      ]
    },
    {
      "cell_type": "markdown",
      "metadata": {
        "id": "cCsu7SULbm8I"
      },
      "source": [
        "___\n",
        "### Scrape Article Page\n",
        "- Now that I have the url to the actual blog article, I can scrape information from that article page."
      ]
    },
    {
      "cell_type": "code",
      "metadata": {
        "id": "JbKrCcomlN4o"
      },
      "source": [
        "# Use my new function to `make the soup`. (request and parse HTML and return Soup object)\n",
        "article_url = 'https://ryanorsinger.com/air-fried-tofu/'\n",
        "soup = make_soup(article_url)"
      ],
      "execution_count": 41,
      "outputs": []
    },
    {
      "cell_type": "markdown",
      "metadata": {
        "id": "pTAaJShjBdR2"
      },
      "source": [
        "___\n",
        "**Find the HTML element responsible for holding the article title.**\n",
        "![Image for article title](https://i.pinimg.com/564x/24/cc/37/24cc37ffbcc228de7c23d6bbccae2c8f.jpg)"
      ]
    },
    {
      "cell_type": "code",
      "metadata": {
        "id": "7IKzs2-Fcvsq",
        "outputId": "3d9c8f9e-2ded-419c-db9c-76c886aaad36",
        "colab": {
          "base_uri": "https://localhost:8080/",
          "height": 35
        }
      },
      "source": [
        "# Filter the Soup to obtain the title of the article.\n",
        "\n",
        "article_title = soup.find('h1').text\n",
        "article_title"
      ],
      "execution_count": 42,
      "outputs": [
        {
          "output_type": "execute_result",
          "data": {
            "application/vnd.google.colaboratory.intrinsic+json": {
              "type": "string"
            },
            "text/plain": [
              "'Air Fried Marinated Tofu'"
            ]
          },
          "metadata": {
            "tags": []
          },
          "execution_count": 42
        }
      ]
    },
    {
      "cell_type": "markdown",
      "metadata": {
        "id": "KlUn5_4zEuMZ"
      },
      "source": [
        "___\n",
        "**Find the HTML element responsible for holding the content or text of the article.**\n",
        "\n",
        "![Image for artice content](https://i.pinimg.com/564x/f9/36/61/f9366187a852182e39a66d68341b10a6.jpg)"
      ]
    },
    {
      "cell_type": "code",
      "metadata": {
        "id": "7ccXGAoRdB2y",
        "outputId": "0920286e-21cc-4004-a4fd-edc95001db69",
        "colab": {
          "base_uri": "https://localhost:8080/"
        }
      },
      "source": [
        "# Filter the Soup to obtain the content of the article.\n",
        "\n",
        "blog_content = soup.find('div', class_=\"kg-card-markdown\").text\n",
        "print(blog_content)"
      ],
      "execution_count": 43,
      "outputs": [
        {
          "output_type": "stream",
          "text": [
            "Drain then press tofu for 30-45 minutes. A tofu press is a good idea, but not necessary.\n",
            "Prepare the Marinade\n",
            "Prepare the marinade while the tofu is pressing\n",
            "\n",
            "1-2 ounces of brown rice vinegar (aged, seasoned)\n",
            "2 ounces of rice wine vinegar (white, seasoned)\n",
            "1 oz soy sauce\n",
            "onion powder\n",
            "garlic powder\n",
            "powdered mustard\n",
            "msg\n",
            "salt\n",
            "3 spoons of sugar\n",
            "generous amount of shakes of garlic tabasco sauce\n",
            "stir vigorously to blend the spices\n",
            "\n",
            "Marinade the Tofu\n",
            "Once the tofu is pressed, cut tofu blocks into 1 inch cubes (roughly).\n",
            "Make sure that the tofu squares are not completely stuck together as you transfer them into a plastic baggie.\n",
            "Pour the marinade over the tofu.\n",
            "Set the tofu for to marinade 10-15 minutes. Then flip the bag over. Check on it and flip in another 15-20 minutes. The tofu should have soaked up most or all of the marinade.\n",
            "Cooking the Tofu\n",
            "Put avocado oil on a paper towel and wipe down the air fryer basket.\n",
            "Put the empty air fryer in for 400 degrees for 5 minutes.\n",
            "Spread the tofu cubes evenly on the air fryer basket.\n",
            "Set the air fryer and cook the tofu for 370 degrees for 15 minutes.\n",
            "All done!\n",
            "\n"
          ],
          "name": "stdout"
        }
      ]
    },
    {
      "cell_type": "markdown",
      "metadata": {
        "id": "V_NLamePGuyj"
      },
      "source": [
        "___\n",
        "**Find the HTML element responsible for holding the datetime for the article.**\n",
        "\n",
        "![Image for datetime of Article](https://i.pinimg.com/564x/c8/8b/83/c88b83c96405fb9c8708fdf7c6ae8daf.jpg)"
      ]
    },
    {
      "cell_type": "code",
      "metadata": {
        "id": "5yukeVPud3BQ",
        "outputId": "7d2889e4-ac2f-4b47-b837-e99e4dce1842",
        "colab": {
          "base_uri": "https://localhost:8080/",
          "height": 35
        }
      },
      "source": [
        "# Filter the Soup to obtain the datetime value from the article.\n",
        "\n",
        "article_date = soup.find('time').attrs['datetime']\n",
        "article_date"
      ],
      "execution_count": 25,
      "outputs": [
        {
          "output_type": "execute_result",
          "data": {
            "application/vnd.google.colaboratory.intrinsic+json": {
              "type": "string"
            },
            "text/plain": [
              "'2018-08-27'"
            ]
          },
          "metadata": {
            "tags": []
          },
          "execution_count": 25
        }
      ]
    },
    {
      "cell_type": "markdown",
      "metadata": {
        "id": "hVR-MBlPViZv"
      },
      "source": [
        "### Your Turn"
      ]
    },
    {
      "cell_type": "code",
      "metadata": {
        "id": "GI8zlgzEf04n"
      },
      "source": [
        "# Can you filter the Soup to obtain some other data from the blog article?\n",
        "art_copy = soup.find('section', class_=\"copyright\").text\n"
      ],
      "execution_count": 26,
      "outputs": []
    },
    {
      "cell_type": "code",
      "metadata": {
        "id": "bTCoIw2Uf8xQ",
        "outputId": "94088a79-8d0b-46c4-c3b1-10a98269a4d5",
        "colab": {
          "base_uri": "https://localhost:8080/"
        }
      },
      "source": [
        "# Can you create a dictionary from the information you scraped above from the blog article? \n",
        "# (like we did for the article card above but this time for the blog article)\n",
        "single_art_dict = {'art_title': article_title, 'art_content': blog_content, 'art_date': article_date, 'art_copyright': art_copy}\n",
        "single_art_dict\n"
      ],
      "execution_count": 27,
      "outputs": [
        {
          "output_type": "execute_result",
          "data": {
            "text/plain": [
              "{'art_content': 'It\\'s a great pleasure to share a few things that are rejuvinating breaths of very fresh air. These are game changers: new ways to fall in love with the essense of things all over again.\\nThe new CSS tools are rejuvinating!\\nThe fresh air in CSS is CSS Grid, flexbox, and all the new properties that provide tremendous leverage with layout.\\n\\nJen Simmons\\'s Layout Land videos have been rejuvinating, insightful, and inspiring. Her Layout Land videos are information rich and motivating to action.\\nThe New CSS Layout by Rachel Andrew is a jewel. So far this book:\\n\\nHelped me understand the traditional layout tools like float and absolute/relative positioning better than ever.\\nOpens the door to CSS Grid and Flexbox with super quick, crystal clear examples.\\nProvide native CSS code that does the work of an 3rd party CSS framework in a dozen lines of CSS.\\n\\n\\nThese additions to CSS help me feel completely rejuvinated. Thanks to these  changes, I\\'m coming to CSS with a beginner\\'s mind and a reinvigorated spirit!\\n\\nGlitch.com is fresh and inspiring!\\nGlitch.com is a project hosting platform, browser based editor, code library, and helpful community. Their tagline is \"Glitch is where you\\'ll build the app of your dreams\", and I believe it! The up-quickly approach takes one click to fork a project or create a new static web pages or node application.\\nIf you haven\\'t heard of glitch.com or tried it, then take it for a joy ride right now.\\nAs a web development instructor, I\\'m in love with the idea of obliterating barriers to learners and novices. Glitch completely obliterates the most common barriers and hastles to getting started with web development.\\n\\n\\nIt\\'s awesome that glitch.com users are one click away from live collaborative help. #RaiseYourHand. Check that feature out!\\n\\n\\nOne of the best parts about glitch.com is all of the working code examples for popular and commonly useful APIs (google sheets, twilio, etc...). If you want a twitter bot, you remix the starter code, get your own API key, and get to coding!\\n\\n\\nClick for a deeper introduction\\n\\n\\n',\n",
              " 'art_copyright': 'Programming Log © 2020',\n",
              " 'art_date': '2018-08-27',\n",
              " 'art_title': 'Breaths of fresh air!'}"
            ]
          },
          "metadata": {
            "tags": []
          },
          "execution_count": 27
        }
      ]
    },
    {
      "cell_type": "code",
      "metadata": {
        "id": "j6I6ZOc9gPNn",
        "outputId": "a966a2ad-d8d1-4d40-b5fb-95d5a98f133e",
        "colab": {
          "base_uri": "https://localhost:8080/"
        }
      },
      "source": [
        "# Can you create a list of urls for all of the articles from the blog homepage?\n",
        "# (like we did for this single article above but a list of urls for every article referenced by an article card)\n",
        "\n",
        "card_df['article_url'] = card_df.base_url + card_df.relative_url\n",
        "art_url_list = card_df.article_url.to_list()\n",
        "art_url_list"
      ],
      "execution_count": 28,
      "outputs": [
        {
          "output_type": "execute_result",
          "data": {
            "text/plain": [
              "['https://ryanorsinger.com/air-fried-tofu/',\n",
              " 'https://ryanorsinger.com/using-gitigore/',\n",
              " 'https://ryanorsinger.com/air-fried-avacados/',\n",
              " 'https://ryanorsinger.com/run-julia-language-on-jupyter-notebook/',\n",
              " 'https://ryanorsinger.com/intro-to-binary/',\n",
              " 'https://ryanorsinger.com/effective-practice-with-flash-cards/',\n",
              " 'https://ryanorsinger.com/intro-to-testing-and-test-driven-development/',\n",
              " 'https://ryanorsinger.com/how-to-practice-a-5-minute-group-presentation/',\n",
              " 'https://ryanorsinger.com/cheesy-garlicky/',\n",
              " 'https://ryanorsinger.com/how-to-start-a-programming-exercise/',\n",
              " 'https://ryanorsinger.com/fresh-air/']"
            ]
          },
          "metadata": {
            "tags": []
          },
          "execution_count": 28
        }
      ]
    },
    {
      "cell_type": "code",
      "metadata": {
        "id": "3Fs3uP2qg_Tm"
      },
      "source": [
        "# Can you use a loop to create a list of dictionaries for all of the blog articles (article_title, article_content, article_date)?\n",
        "# (like the dictionary we created for the single blog article above)\n",
        "# def get_card_info(card):\n",
        "#   title = card.find('h2').text\n",
        "#   content = card.find('p').text\n",
        "#   relative_url = card.find('a').get('href')\n",
        "#   read_time = card.find('span', class_='reading-time')\n",
        "#   card_dict = {'title':title, 'content':content, 'relative_url':relative_url, 'read_time':read_time}\n",
        "#   return card_dict\n",
        "\n",
        "def get_article_info(url):\n",
        "  soup = make_soup(url)\n",
        "  article_title = soup.find('h1').text\n",
        "  article_content = soup.find('div', class_=\"kg-card-markdown\").text\n",
        "  article_date = soup.find('time').attrs['datetime']\n",
        "  art_copy = soup.find('section', class_=\"copyright\").text\n",
        "  art_dict = {'art_title': article_title, 'art_content': article_content, 'art_date': article_date, 'art_copyright': art_copy}\n",
        "  return art_dict\n"
      ],
      "execution_count": 48,
      "outputs": []
    },
    {
      "cell_type": "code",
      "metadata": {
        "id": "LvaV1iZ47PLi"
      },
      "source": [
        "art_dict_list = []\n",
        "\n",
        "for url in art_url_list:\n",
        "  art_info = get_article_info(url)\n",
        "  art_dict_list.append(art_info)\n"
      ],
      "execution_count": 49,
      "outputs": []
    },
    {
      "cell_type": "code",
      "metadata": {
        "id": "i1LhL72yhL2E"
      },
      "source": [
        "# Can you now convert your list of dictionaries containing the title, content, and date of all of the blog articles to a DataFrame?\n",
        "\n",
        "\n",
        "article_df = pd.DataFrame(art_dict_list)\n",
        "\n"
      ],
      "execution_count": 50,
      "outputs": []
    },
    {
      "cell_type": "code",
      "metadata": {
        "id": "s73pjXJs8S5U",
        "outputId": "3f4c637f-3fd0-4be7-cefd-c0ee94e21c7e",
        "colab": {
          "base_uri": "https://localhost:8080/",
          "height": 390
        }
      },
      "source": [
        "article_df\n"
      ],
      "execution_count": 51,
      "outputs": [
        {
          "output_type": "execute_result",
          "data": {
            "text/html": [
              "<div>\n",
              "<style scoped>\n",
              "    .dataframe tbody tr th:only-of-type {\n",
              "        vertical-align: middle;\n",
              "    }\n",
              "\n",
              "    .dataframe tbody tr th {\n",
              "        vertical-align: top;\n",
              "    }\n",
              "\n",
              "    .dataframe thead th {\n",
              "        text-align: right;\n",
              "    }\n",
              "</style>\n",
              "<table border=\"1\" class=\"dataframe\">\n",
              "  <thead>\n",
              "    <tr style=\"text-align: right;\">\n",
              "      <th></th>\n",
              "      <th>art_title</th>\n",
              "      <th>art_content</th>\n",
              "      <th>art_date</th>\n",
              "      <th>art_copyright</th>\n",
              "    </tr>\n",
              "  </thead>\n",
              "  <tbody>\n",
              "    <tr>\n",
              "      <th>0</th>\n",
              "      <td>Air Fried Marinated Tofu</td>\n",
              "      <td>Drain then press tofu for 30-45 minutes. A tof...</td>\n",
              "      <td>2020-10-13</td>\n",
              "      <td>Programming Log © 2020</td>\n",
              "    </tr>\n",
              "    <tr>\n",
              "      <th>1</th>\n",
              "      <td>Using Gitigore</td>\n",
              "      <td>Gitignore Exercises\\nExercise 1\\n\\nChange dire...</td>\n",
              "      <td>2020-07-20</td>\n",
              "      <td>Programming Log © 2020</td>\n",
              "    </tr>\n",
              "    <tr>\n",
              "      <th>2</th>\n",
              "      <td>Air Fried Avocados</td>\n",
              "      <td>Ingredients:\\n\\n2 large avacados\\nSalt, pepper...</td>\n",
              "      <td>2020-01-16</td>\n",
              "      <td>Programming Log © 2020</td>\n",
              "    </tr>\n",
              "    <tr>\n",
              "      <th>3</th>\n",
              "      <td>How to Run Julia Language on Jupyter Notebooks</td>\n",
              "      <td>Rationale\\n\\nJulia is high performance general...</td>\n",
              "      <td>2019-08-03</td>\n",
              "      <td>Programming Log © 2020</td>\n",
              "    </tr>\n",
              "    <tr>\n",
              "      <th>4</th>\n",
              "      <td>Intro to Binary</td>\n",
              "      <td>Intro to Binary Numbers - Why should you care?...</td>\n",
              "      <td>2019-07-18</td>\n",
              "      <td>Programming Log © 2020</td>\n",
              "    </tr>\n",
              "    <tr>\n",
              "      <th>5</th>\n",
              "      <td>Effective Practice with Flash Cards</td>\n",
              "      <td>Effective practice with flash-cards is about s...</td>\n",
              "      <td>2019-03-04</td>\n",
              "      <td>Programming Log © 2020</td>\n",
              "    </tr>\n",
              "    <tr>\n",
              "      <th>6</th>\n",
              "      <td>Gentle Introduction Test Driven Development (TDD)</td>\n",
              "      <td>My Intro to Testing JS  tutorial is hot off th...</td>\n",
              "      <td>2019-02-12</td>\n",
              "      <td>Programming Log © 2020</td>\n",
              "    </tr>\n",
              "    <tr>\n",
              "      <th>7</th>\n",
              "      <td>Effectively practice a 5-10 minute group prese...</td>\n",
              "      <td>\\nIf you're still working on memorizing your s...</td>\n",
              "      <td>2019-02-01</td>\n",
              "      <td>Programming Log © 2020</td>\n",
              "    </tr>\n",
              "    <tr>\n",
              "      <th>8</th>\n",
              "      <td>Cheesy Garlic Brussel Sprouts</td>\n",
              "      <td>Dependencies:\\n\\noven\\nstovetop range\\nmicrowa...</td>\n",
              "      <td>2018-12-19</td>\n",
              "      <td>Programming Log © 2020</td>\n",
              "    </tr>\n",
              "    <tr>\n",
              "      <th>9</th>\n",
              "      <td>How to get started on a programming exercise</td>\n",
              "      <td>Scenario:\\nYou're learning to code, learning s...</td>\n",
              "      <td>2018-08-29</td>\n",
              "      <td>Programming Log © 2020</td>\n",
              "    </tr>\n",
              "    <tr>\n",
              "      <th>10</th>\n",
              "      <td>Breaths of fresh air!</td>\n",
              "      <td>It's a great pleasure to share a few things th...</td>\n",
              "      <td>2018-08-27</td>\n",
              "      <td>Programming Log © 2020</td>\n",
              "    </tr>\n",
              "  </tbody>\n",
              "</table>\n",
              "</div>"
            ],
            "text/plain": [
              "                                            art_title  ...           art_copyright\n",
              "0                            Air Fried Marinated Tofu  ...  Programming Log © 2020\n",
              "1                                      Using Gitigore  ...  Programming Log © 2020\n",
              "2                                  Air Fried Avocados  ...  Programming Log © 2020\n",
              "3      How to Run Julia Language on Jupyter Notebooks  ...  Programming Log © 2020\n",
              "4                                     Intro to Binary  ...  Programming Log © 2020\n",
              "5                 Effective Practice with Flash Cards  ...  Programming Log © 2020\n",
              "6   Gentle Introduction Test Driven Development (TDD)  ...  Programming Log © 2020\n",
              "7   Effectively practice a 5-10 minute group prese...  ...  Programming Log © 2020\n",
              "8                       Cheesy Garlic Brussel Sprouts  ...  Programming Log © 2020\n",
              "9        How to get started on a programming exercise  ...  Programming Log © 2020\n",
              "10                              Breaths of fresh air!  ...  Programming Log © 2020\n",
              "\n",
              "[11 rows x 4 columns]"
            ]
          },
          "metadata": {
            "tags": []
          },
          "execution_count": 51
        }
      ]
    },
    {
      "cell_type": "markdown",
      "metadata": {
        "id": "5ZK7WF7y_qYL"
      },
      "source": [
        "___"
      ]
    },
    {
      "cell_type": "markdown",
      "metadata": {
        "id": "EL05I_Dr-iMq"
      },
      "source": [
        "#### Save the Content\n",
        "\n",
        "Here, we will **save our DataFrame** to a json file because it handles the multi-line text data that we are scraping better than a csv file. \n",
        "```python\n",
        "# Save df to a json file to current directory\n",
        "pd.to_json('df_name.json')\n",
        "```\n",
        "\n",
        "```python\n",
        "# Read a json file into pandas DataFrame\n",
        "df = pd.read_json('df_name.json')\n",
        "```\n",
        "\n",
        "The important part of this step is that we have our scraped data in a format that is usable in the next step of our particular project.\n"
      ]
    },
    {
      "cell_type": "code",
      "metadata": {
        "id": "MW6X7DxZhYN8"
      },
      "source": [
        "article_df.to_json('article_df.json')"
      ],
      "execution_count": 53,
      "outputs": []
    },
    {
      "cell_type": "code",
      "metadata": {
        "id": "eviDUrH3hdzs"
      },
      "source": [
        "df = pd.read_json('article_df.json')"
      ],
      "execution_count": 55,
      "outputs": []
    },
    {
      "cell_type": "markdown",
      "metadata": {
        "id": "8bZsW-dgheRv"
      },
      "source": [
        "___"
      ]
    },
    {
      "cell_type": "code",
      "metadata": {
        "id": "rMCPJmPWCQo2",
        "outputId": "0573aced-8569-4aaf-ae62-3554e674ff21",
        "colab": {
          "base_uri": "https://localhost:8080/",
          "height": 390
        }
      },
      "source": [
        "df"
      ],
      "execution_count": 56,
      "outputs": [
        {
          "output_type": "execute_result",
          "data": {
            "text/html": [
              "<div>\n",
              "<style scoped>\n",
              "    .dataframe tbody tr th:only-of-type {\n",
              "        vertical-align: middle;\n",
              "    }\n",
              "\n",
              "    .dataframe tbody tr th {\n",
              "        vertical-align: top;\n",
              "    }\n",
              "\n",
              "    .dataframe thead th {\n",
              "        text-align: right;\n",
              "    }\n",
              "</style>\n",
              "<table border=\"1\" class=\"dataframe\">\n",
              "  <thead>\n",
              "    <tr style=\"text-align: right;\">\n",
              "      <th></th>\n",
              "      <th>art_title</th>\n",
              "      <th>art_content</th>\n",
              "      <th>art_date</th>\n",
              "      <th>art_copyright</th>\n",
              "    </tr>\n",
              "  </thead>\n",
              "  <tbody>\n",
              "    <tr>\n",
              "      <th>0</th>\n",
              "      <td>Air Fried Marinated Tofu</td>\n",
              "      <td>Drain then press tofu for 30-45 minutes. A tof...</td>\n",
              "      <td>2020-10-13</td>\n",
              "      <td>Programming Log © 2020</td>\n",
              "    </tr>\n",
              "    <tr>\n",
              "      <th>1</th>\n",
              "      <td>Using Gitigore</td>\n",
              "      <td>Gitignore Exercises\\nExercise 1\\n\\nChange dire...</td>\n",
              "      <td>2020-07-20</td>\n",
              "      <td>Programming Log © 2020</td>\n",
              "    </tr>\n",
              "    <tr>\n",
              "      <th>2</th>\n",
              "      <td>Air Fried Avocados</td>\n",
              "      <td>Ingredients:\\n\\n2 large avacados\\nSalt, pepper...</td>\n",
              "      <td>2020-01-16</td>\n",
              "      <td>Programming Log © 2020</td>\n",
              "    </tr>\n",
              "    <tr>\n",
              "      <th>3</th>\n",
              "      <td>How to Run Julia Language on Jupyter Notebooks</td>\n",
              "      <td>Rationale\\n\\nJulia is high performance general...</td>\n",
              "      <td>2019-08-03</td>\n",
              "      <td>Programming Log © 2020</td>\n",
              "    </tr>\n",
              "    <tr>\n",
              "      <th>4</th>\n",
              "      <td>Intro to Binary</td>\n",
              "      <td>Intro to Binary Numbers - Why should you care?...</td>\n",
              "      <td>2019-07-18</td>\n",
              "      <td>Programming Log © 2020</td>\n",
              "    </tr>\n",
              "    <tr>\n",
              "      <th>5</th>\n",
              "      <td>Effective Practice with Flash Cards</td>\n",
              "      <td>Effective practice with flash-cards is about s...</td>\n",
              "      <td>2019-03-04</td>\n",
              "      <td>Programming Log © 2020</td>\n",
              "    </tr>\n",
              "    <tr>\n",
              "      <th>6</th>\n",
              "      <td>Gentle Introduction Test Driven Development (TDD)</td>\n",
              "      <td>My Intro to Testing JS  tutorial is hot off th...</td>\n",
              "      <td>2019-02-12</td>\n",
              "      <td>Programming Log © 2020</td>\n",
              "    </tr>\n",
              "    <tr>\n",
              "      <th>7</th>\n",
              "      <td>Effectively practice a 5-10 minute group prese...</td>\n",
              "      <td>\\nIf you're still working on memorizing your s...</td>\n",
              "      <td>2019-02-01</td>\n",
              "      <td>Programming Log © 2020</td>\n",
              "    </tr>\n",
              "    <tr>\n",
              "      <th>8</th>\n",
              "      <td>Cheesy Garlic Brussel Sprouts</td>\n",
              "      <td>Dependencies:\\n\\noven\\nstovetop range\\nmicrowa...</td>\n",
              "      <td>2018-12-19</td>\n",
              "      <td>Programming Log © 2020</td>\n",
              "    </tr>\n",
              "    <tr>\n",
              "      <th>9</th>\n",
              "      <td>How to get started on a programming exercise</td>\n",
              "      <td>Scenario:\\nYou're learning to code, learning s...</td>\n",
              "      <td>2018-08-29</td>\n",
              "      <td>Programming Log © 2020</td>\n",
              "    </tr>\n",
              "    <tr>\n",
              "      <th>10</th>\n",
              "      <td>Breaths of fresh air!</td>\n",
              "      <td>It's a great pleasure to share a few things th...</td>\n",
              "      <td>2018-08-27</td>\n",
              "      <td>Programming Log © 2020</td>\n",
              "    </tr>\n",
              "  </tbody>\n",
              "</table>\n",
              "</div>"
            ],
            "text/plain": [
              "                                            art_title  ...           art_copyright\n",
              "0                            Air Fried Marinated Tofu  ...  Programming Log © 2020\n",
              "1                                      Using Gitigore  ...  Programming Log © 2020\n",
              "2                                  Air Fried Avocados  ...  Programming Log © 2020\n",
              "3      How to Run Julia Language on Jupyter Notebooks  ...  Programming Log © 2020\n",
              "4                                     Intro to Binary  ...  Programming Log © 2020\n",
              "5                 Effective Practice with Flash Cards  ...  Programming Log © 2020\n",
              "6   Gentle Introduction Test Driven Development (TDD)  ...  Programming Log © 2020\n",
              "7   Effectively practice a 5-10 minute group prese...  ...  Programming Log © 2020\n",
              "8                       Cheesy Garlic Brussel Sprouts  ...  Programming Log © 2020\n",
              "9        How to get started on a programming exercise  ...  Programming Log © 2020\n",
              "10                              Breaths of fresh air!  ...  Programming Log © 2020\n",
              "\n",
              "[11 rows x 4 columns]"
            ]
          },
          "metadata": {
            "tags": []
          },
          "execution_count": 56
        }
      ]
    },
    {
      "cell_type": "markdown",
      "metadata": {
        "id": "i6-9H9rJhfPn"
      },
      "source": [
        "## Make Your Work Reproducible\n",
        "\n",
        "Here, you may want to make your process from above reproducible by creating functions that make your scraping repeatable for this site."
      ]
    },
    {
      "cell_type": "code",
      "metadata": {
        "id": "IFbYLVHUhnV1"
      },
      "source": [
        "# Create a helper function that obtains the url for each blog article and returns all of them in a list.\n",
        "\n",
        "def scrape_urls():\n",
        "  # use the process above as the guts for this function\n",
        "  pass"
      ],
      "execution_count": 32,
      "outputs": []
    },
    {
      "cell_type": "code",
      "metadata": {
        "id": "AuV7hOA8E68u"
      },
      "source": [
        "# Create the Soup object by passing our string of HTML and choice of parser to BeautifulSoup.\n",
        "\n",
        "soup = BeautifulSoup(response.text, 'html.parser')"
      ],
      "execution_count": null,
      "outputs": []
    },
    {
      "cell_type": "markdown",
      "metadata": {
        "id": "I3rvqfjXE684"
      },
      "source": [
        "### Concat the card and article dataframes?\n",
        "\n",
        "Can the card_df and article_df be made into one dataframe?"
      ]
    },
    {
      "cell_type": "code",
      "metadata": {
        "id": "kK-0MxNZE685",
        "outputId": "bc986066-2116-43eb-d376-1f0fd83fdaab",
        "colab": {
          "base_uri": "https://localhost:8080/",
          "height": 441
        }
      },
      "source": [
        "# view card_df\n",
        "card_df"
      ],
      "execution_count": 57,
      "outputs": [
        {
          "output_type": "execute_result",
          "data": {
            "text/html": [
              "<div>\n",
              "<style scoped>\n",
              "    .dataframe tbody tr th:only-of-type {\n",
              "        vertical-align: middle;\n",
              "    }\n",
              "\n",
              "    .dataframe tbody tr th {\n",
              "        vertical-align: top;\n",
              "    }\n",
              "\n",
              "    .dataframe thead th {\n",
              "        text-align: right;\n",
              "    }\n",
              "</style>\n",
              "<table border=\"1\" class=\"dataframe\">\n",
              "  <thead>\n",
              "    <tr style=\"text-align: right;\">\n",
              "      <th></th>\n",
              "      <th>title</th>\n",
              "      <th>content</th>\n",
              "      <th>relative_url</th>\n",
              "      <th>read_time</th>\n",
              "    </tr>\n",
              "  </thead>\n",
              "  <tbody>\n",
              "    <tr>\n",
              "      <th>0</th>\n",
              "      <td>Air Fried Marinated Tofu</td>\n",
              "      <td>Drain then press tofu for 30-45 minutes. A tof...</td>\n",
              "      <td>/air-fried-tofu/</td>\n",
              "      <td>[1 min read]</td>\n",
              "    </tr>\n",
              "    <tr>\n",
              "      <th>1</th>\n",
              "      <td>Using Gitigore</td>\n",
              "      <td>Gitignore Exercises Exercise 1 Change director...</td>\n",
              "      <td>/using-gitigore/</td>\n",
              "      <td>[1 min read]</td>\n",
              "    </tr>\n",
              "    <tr>\n",
              "      <th>2</th>\n",
              "      <td>Air Fried Avocados</td>\n",
              "      <td>Ingredients: 2 large avacados Salt, pepper Dir...</td>\n",
              "      <td>/air-fried-avacados/</td>\n",
              "      <td>[1 min read]</td>\n",
              "    </tr>\n",
              "    <tr>\n",
              "      <th>3</th>\n",
              "      <td>How to Run Julia Language on Jupyter Notebooks</td>\n",
              "      <td>Rationale Julia is high performance general pu...</td>\n",
              "      <td>/run-julia-language-on-jupyter-notebook/</td>\n",
              "      <td>[1 min read]</td>\n",
              "    </tr>\n",
              "    <tr>\n",
              "      <th>4</th>\n",
              "      <td>Intro to Binary</td>\n",
              "      <td>Intro to Binary Numbers - Why should you care?...</td>\n",
              "      <td>/intro-to-binary/</td>\n",
              "      <td>[2 min read]</td>\n",
              "    </tr>\n",
              "    <tr>\n",
              "      <th>5</th>\n",
              "      <td>Effective Practice with Flash Cards</td>\n",
              "      <td>Effective practice with flash-cards is about s...</td>\n",
              "      <td>/effective-practice-with-flash-cards/</td>\n",
              "      <td>[3 min read]</td>\n",
              "    </tr>\n",
              "    <tr>\n",
              "      <th>6</th>\n",
              "      <td>Gentle Introduction Test Driven Development (TDD)</td>\n",
              "      <td>My Intro to Testing JS  tutorial is hot off th...</td>\n",
              "      <td>/intro-to-testing-and-test-driven-development/</td>\n",
              "      <td>[1 min read]</td>\n",
              "    </tr>\n",
              "    <tr>\n",
              "      <th>7</th>\n",
              "      <td>Effectively practice a 5-10 minute group prese...</td>\n",
              "      <td>If you're still working on memorizing your scr...</td>\n",
              "      <td>/how-to-practice-a-5-minute-group-presentation/</td>\n",
              "      <td>[1 min read]</td>\n",
              "    </tr>\n",
              "    <tr>\n",
              "      <th>8</th>\n",
              "      <td>Cheesy Garlic Brussel Sprouts</td>\n",
              "      <td>Dependencies: oven stovetop range microwave pa...</td>\n",
              "      <td>/cheesy-garlicky/</td>\n",
              "      <td>[1 min read]</td>\n",
              "    </tr>\n",
              "    <tr>\n",
              "      <th>9</th>\n",
              "      <td>How to get started on a programming exercise</td>\n",
              "      <td>Scenario: You're learning to code, learning sy...</td>\n",
              "      <td>/how-to-start-a-programming-exercise/</td>\n",
              "      <td>[2 min read]</td>\n",
              "    </tr>\n",
              "    <tr>\n",
              "      <th>10</th>\n",
              "      <td>Breaths of fresh air!</td>\n",
              "      <td>It's a great pleasure to share a few things th...</td>\n",
              "      <td>/fresh-air/</td>\n",
              "      <td>[2 min read]</td>\n",
              "    </tr>\n",
              "  </tbody>\n",
              "</table>\n",
              "</div>"
            ],
            "text/plain": [
              "                                                title  ...     read_time\n",
              "0                            Air Fried Marinated Tofu  ...  [1 min read]\n",
              "1                                      Using Gitigore  ...  [1 min read]\n",
              "2                                  Air Fried Avocados  ...  [1 min read]\n",
              "3      How to Run Julia Language on Jupyter Notebooks  ...  [1 min read]\n",
              "4                                     Intro to Binary  ...  [2 min read]\n",
              "5                 Effective Practice with Flash Cards  ...  [3 min read]\n",
              "6   Gentle Introduction Test Driven Development (TDD)  ...  [1 min read]\n",
              "7   Effectively practice a 5-10 minute group prese...  ...  [1 min read]\n",
              "8                       Cheesy Garlic Brussel Sprouts  ...  [1 min read]\n",
              "9        How to get started on a programming exercise  ...  [2 min read]\n",
              "10                              Breaths of fresh air!  ...  [2 min read]\n",
              "\n",
              "[11 rows x 4 columns]"
            ]
          },
          "metadata": {
            "tags": []
          },
          "execution_count": 57
        }
      ]
    },
    {
      "cell_type": "code",
      "metadata": {
        "id": "I6B5xWJ7Ea0A",
        "outputId": "754b7b85-666c-471a-a298-da72f7fa10b8",
        "colab": {
          "base_uri": "https://localhost:8080/",
          "height": 390
        }
      },
      "source": [
        "# view article_df\n",
        "article_df"
      ],
      "execution_count": 58,
      "outputs": [
        {
          "output_type": "execute_result",
          "data": {
            "text/html": [
              "<div>\n",
              "<style scoped>\n",
              "    .dataframe tbody tr th:only-of-type {\n",
              "        vertical-align: middle;\n",
              "    }\n",
              "\n",
              "    .dataframe tbody tr th {\n",
              "        vertical-align: top;\n",
              "    }\n",
              "\n",
              "    .dataframe thead th {\n",
              "        text-align: right;\n",
              "    }\n",
              "</style>\n",
              "<table border=\"1\" class=\"dataframe\">\n",
              "  <thead>\n",
              "    <tr style=\"text-align: right;\">\n",
              "      <th></th>\n",
              "      <th>art_title</th>\n",
              "      <th>art_content</th>\n",
              "      <th>art_date</th>\n",
              "      <th>art_copyright</th>\n",
              "    </tr>\n",
              "  </thead>\n",
              "  <tbody>\n",
              "    <tr>\n",
              "      <th>0</th>\n",
              "      <td>Air Fried Marinated Tofu</td>\n",
              "      <td>Drain then press tofu for 30-45 minutes. A tof...</td>\n",
              "      <td>2020-10-13</td>\n",
              "      <td>Programming Log © 2020</td>\n",
              "    </tr>\n",
              "    <tr>\n",
              "      <th>1</th>\n",
              "      <td>Using Gitigore</td>\n",
              "      <td>Gitignore Exercises\\nExercise 1\\n\\nChange dire...</td>\n",
              "      <td>2020-07-20</td>\n",
              "      <td>Programming Log © 2020</td>\n",
              "    </tr>\n",
              "    <tr>\n",
              "      <th>2</th>\n",
              "      <td>Air Fried Avocados</td>\n",
              "      <td>Ingredients:\\n\\n2 large avacados\\nSalt, pepper...</td>\n",
              "      <td>2020-01-16</td>\n",
              "      <td>Programming Log © 2020</td>\n",
              "    </tr>\n",
              "    <tr>\n",
              "      <th>3</th>\n",
              "      <td>How to Run Julia Language on Jupyter Notebooks</td>\n",
              "      <td>Rationale\\n\\nJulia is high performance general...</td>\n",
              "      <td>2019-08-03</td>\n",
              "      <td>Programming Log © 2020</td>\n",
              "    </tr>\n",
              "    <tr>\n",
              "      <th>4</th>\n",
              "      <td>Intro to Binary</td>\n",
              "      <td>Intro to Binary Numbers - Why should you care?...</td>\n",
              "      <td>2019-07-18</td>\n",
              "      <td>Programming Log © 2020</td>\n",
              "    </tr>\n",
              "    <tr>\n",
              "      <th>5</th>\n",
              "      <td>Effective Practice with Flash Cards</td>\n",
              "      <td>Effective practice with flash-cards is about s...</td>\n",
              "      <td>2019-03-04</td>\n",
              "      <td>Programming Log © 2020</td>\n",
              "    </tr>\n",
              "    <tr>\n",
              "      <th>6</th>\n",
              "      <td>Gentle Introduction Test Driven Development (TDD)</td>\n",
              "      <td>My Intro to Testing JS  tutorial is hot off th...</td>\n",
              "      <td>2019-02-12</td>\n",
              "      <td>Programming Log © 2020</td>\n",
              "    </tr>\n",
              "    <tr>\n",
              "      <th>7</th>\n",
              "      <td>Effectively practice a 5-10 minute group prese...</td>\n",
              "      <td>\\nIf you're still working on memorizing your s...</td>\n",
              "      <td>2019-02-01</td>\n",
              "      <td>Programming Log © 2020</td>\n",
              "    </tr>\n",
              "    <tr>\n",
              "      <th>8</th>\n",
              "      <td>Cheesy Garlic Brussel Sprouts</td>\n",
              "      <td>Dependencies:\\n\\noven\\nstovetop range\\nmicrowa...</td>\n",
              "      <td>2018-12-19</td>\n",
              "      <td>Programming Log © 2020</td>\n",
              "    </tr>\n",
              "    <tr>\n",
              "      <th>9</th>\n",
              "      <td>How to get started on a programming exercise</td>\n",
              "      <td>Scenario:\\nYou're learning to code, learning s...</td>\n",
              "      <td>2018-08-29</td>\n",
              "      <td>Programming Log © 2020</td>\n",
              "    </tr>\n",
              "    <tr>\n",
              "      <th>10</th>\n",
              "      <td>Breaths of fresh air!</td>\n",
              "      <td>It's a great pleasure to share a few things th...</td>\n",
              "      <td>2018-08-27</td>\n",
              "      <td>Programming Log © 2020</td>\n",
              "    </tr>\n",
              "  </tbody>\n",
              "</table>\n",
              "</div>"
            ],
            "text/plain": [
              "                                            art_title  ...           art_copyright\n",
              "0                            Air Fried Marinated Tofu  ...  Programming Log © 2020\n",
              "1                                      Using Gitigore  ...  Programming Log © 2020\n",
              "2                                  Air Fried Avocados  ...  Programming Log © 2020\n",
              "3      How to Run Julia Language on Jupyter Notebooks  ...  Programming Log © 2020\n",
              "4                                     Intro to Binary  ...  Programming Log © 2020\n",
              "5                 Effective Practice with Flash Cards  ...  Programming Log © 2020\n",
              "6   Gentle Introduction Test Driven Development (TDD)  ...  Programming Log © 2020\n",
              "7   Effectively practice a 5-10 minute group prese...  ...  Programming Log © 2020\n",
              "8                       Cheesy Garlic Brussel Sprouts  ...  Programming Log © 2020\n",
              "9        How to get started on a programming exercise  ...  Programming Log © 2020\n",
              "10                              Breaths of fresh air!  ...  Programming Log © 2020\n",
              "\n",
              "[11 rows x 4 columns]"
            ]
          },
          "metadata": {
            "tags": []
          },
          "execution_count": 58
        }
      ]
    },
    {
      "cell_type": "code",
      "metadata": {
        "id": "WgrASBklEa0E",
        "outputId": "72b10336-9022-488f-8fef-cca443bf6ed6",
        "colab": {
          "base_uri": "https://localhost:8080/",
          "height": 832
        }
      },
      "source": [
        "# merge dataframes on title and article title\n",
        "full_df = card_df.merge(article_df, left_on='title', right_on='art_title')\n",
        "full_df"
      ],
      "execution_count": 59,
      "outputs": [
        {
          "output_type": "execute_result",
          "data": {
            "text/html": [
              "<div>\n",
              "<style scoped>\n",
              "    .dataframe tbody tr th:only-of-type {\n",
              "        vertical-align: middle;\n",
              "    }\n",
              "\n",
              "    .dataframe tbody tr th {\n",
              "        vertical-align: top;\n",
              "    }\n",
              "\n",
              "    .dataframe thead th {\n",
              "        text-align: right;\n",
              "    }\n",
              "</style>\n",
              "<table border=\"1\" class=\"dataframe\">\n",
              "  <thead>\n",
              "    <tr style=\"text-align: right;\">\n",
              "      <th></th>\n",
              "      <th>title</th>\n",
              "      <th>content</th>\n",
              "      <th>relative_url</th>\n",
              "      <th>read_time</th>\n",
              "      <th>art_title</th>\n",
              "      <th>art_content</th>\n",
              "      <th>art_date</th>\n",
              "      <th>art_copyright</th>\n",
              "    </tr>\n",
              "  </thead>\n",
              "  <tbody>\n",
              "    <tr>\n",
              "      <th>0</th>\n",
              "      <td>Air Fried Marinated Tofu</td>\n",
              "      <td>Drain then press tofu for 30-45 minutes. A tof...</td>\n",
              "      <td>/air-fried-tofu/</td>\n",
              "      <td>[1 min read]</td>\n",
              "      <td>Air Fried Marinated Tofu</td>\n",
              "      <td>Drain then press tofu for 30-45 minutes. A tof...</td>\n",
              "      <td>2020-10-13</td>\n",
              "      <td>Programming Log © 2020</td>\n",
              "    </tr>\n",
              "    <tr>\n",
              "      <th>1</th>\n",
              "      <td>Using Gitigore</td>\n",
              "      <td>Gitignore Exercises Exercise 1 Change director...</td>\n",
              "      <td>/using-gitigore/</td>\n",
              "      <td>[1 min read]</td>\n",
              "      <td>Using Gitigore</td>\n",
              "      <td>Gitignore Exercises\\nExercise 1\\n\\nChange dire...</td>\n",
              "      <td>2020-07-20</td>\n",
              "      <td>Programming Log © 2020</td>\n",
              "    </tr>\n",
              "    <tr>\n",
              "      <th>2</th>\n",
              "      <td>Air Fried Avocados</td>\n",
              "      <td>Ingredients: 2 large avacados Salt, pepper Dir...</td>\n",
              "      <td>/air-fried-avacados/</td>\n",
              "      <td>[1 min read]</td>\n",
              "      <td>Air Fried Avocados</td>\n",
              "      <td>Ingredients:\\n\\n2 large avacados\\nSalt, pepper...</td>\n",
              "      <td>2020-01-16</td>\n",
              "      <td>Programming Log © 2020</td>\n",
              "    </tr>\n",
              "    <tr>\n",
              "      <th>3</th>\n",
              "      <td>How to Run Julia Language on Jupyter Notebooks</td>\n",
              "      <td>Rationale Julia is high performance general pu...</td>\n",
              "      <td>/run-julia-language-on-jupyter-notebook/</td>\n",
              "      <td>[1 min read]</td>\n",
              "      <td>How to Run Julia Language on Jupyter Notebooks</td>\n",
              "      <td>Rationale\\n\\nJulia is high performance general...</td>\n",
              "      <td>2019-08-03</td>\n",
              "      <td>Programming Log © 2020</td>\n",
              "    </tr>\n",
              "    <tr>\n",
              "      <th>4</th>\n",
              "      <td>Intro to Binary</td>\n",
              "      <td>Intro to Binary Numbers - Why should you care?...</td>\n",
              "      <td>/intro-to-binary/</td>\n",
              "      <td>[2 min read]</td>\n",
              "      <td>Intro to Binary</td>\n",
              "      <td>Intro to Binary Numbers - Why should you care?...</td>\n",
              "      <td>2019-07-18</td>\n",
              "      <td>Programming Log © 2020</td>\n",
              "    </tr>\n",
              "    <tr>\n",
              "      <th>5</th>\n",
              "      <td>Effective Practice with Flash Cards</td>\n",
              "      <td>Effective practice with flash-cards is about s...</td>\n",
              "      <td>/effective-practice-with-flash-cards/</td>\n",
              "      <td>[3 min read]</td>\n",
              "      <td>Effective Practice with Flash Cards</td>\n",
              "      <td>Effective practice with flash-cards is about s...</td>\n",
              "      <td>2019-03-04</td>\n",
              "      <td>Programming Log © 2020</td>\n",
              "    </tr>\n",
              "    <tr>\n",
              "      <th>6</th>\n",
              "      <td>Gentle Introduction Test Driven Development (TDD)</td>\n",
              "      <td>My Intro to Testing JS  tutorial is hot off th...</td>\n",
              "      <td>/intro-to-testing-and-test-driven-development/</td>\n",
              "      <td>[1 min read]</td>\n",
              "      <td>Gentle Introduction Test Driven Development (TDD)</td>\n",
              "      <td>My Intro to Testing JS  tutorial is hot off th...</td>\n",
              "      <td>2019-02-12</td>\n",
              "      <td>Programming Log © 2020</td>\n",
              "    </tr>\n",
              "    <tr>\n",
              "      <th>7</th>\n",
              "      <td>Effectively practice a 5-10 minute group prese...</td>\n",
              "      <td>If you're still working on memorizing your scr...</td>\n",
              "      <td>/how-to-practice-a-5-minute-group-presentation/</td>\n",
              "      <td>[1 min read]</td>\n",
              "      <td>Effectively practice a 5-10 minute group prese...</td>\n",
              "      <td>\\nIf you're still working on memorizing your s...</td>\n",
              "      <td>2019-02-01</td>\n",
              "      <td>Programming Log © 2020</td>\n",
              "    </tr>\n",
              "    <tr>\n",
              "      <th>8</th>\n",
              "      <td>Cheesy Garlic Brussel Sprouts</td>\n",
              "      <td>Dependencies: oven stovetop range microwave pa...</td>\n",
              "      <td>/cheesy-garlicky/</td>\n",
              "      <td>[1 min read]</td>\n",
              "      <td>Cheesy Garlic Brussel Sprouts</td>\n",
              "      <td>Dependencies:\\n\\noven\\nstovetop range\\nmicrowa...</td>\n",
              "      <td>2018-12-19</td>\n",
              "      <td>Programming Log © 2020</td>\n",
              "    </tr>\n",
              "    <tr>\n",
              "      <th>9</th>\n",
              "      <td>How to get started on a programming exercise</td>\n",
              "      <td>Scenario: You're learning to code, learning sy...</td>\n",
              "      <td>/how-to-start-a-programming-exercise/</td>\n",
              "      <td>[2 min read]</td>\n",
              "      <td>How to get started on a programming exercise</td>\n",
              "      <td>Scenario:\\nYou're learning to code, learning s...</td>\n",
              "      <td>2018-08-29</td>\n",
              "      <td>Programming Log © 2020</td>\n",
              "    </tr>\n",
              "    <tr>\n",
              "      <th>10</th>\n",
              "      <td>Breaths of fresh air!</td>\n",
              "      <td>It's a great pleasure to share a few things th...</td>\n",
              "      <td>/fresh-air/</td>\n",
              "      <td>[2 min read]</td>\n",
              "      <td>Breaths of fresh air!</td>\n",
              "      <td>It's a great pleasure to share a few things th...</td>\n",
              "      <td>2018-08-27</td>\n",
              "      <td>Programming Log © 2020</td>\n",
              "    </tr>\n",
              "  </tbody>\n",
              "</table>\n",
              "</div>"
            ],
            "text/plain": [
              "                                                title  ...           art_copyright\n",
              "0                            Air Fried Marinated Tofu  ...  Programming Log © 2020\n",
              "1                                      Using Gitigore  ...  Programming Log © 2020\n",
              "2                                  Air Fried Avocados  ...  Programming Log © 2020\n",
              "3      How to Run Julia Language on Jupyter Notebooks  ...  Programming Log © 2020\n",
              "4                                     Intro to Binary  ...  Programming Log © 2020\n",
              "5                 Effective Practice with Flash Cards  ...  Programming Log © 2020\n",
              "6   Gentle Introduction Test Driven Development (TDD)  ...  Programming Log © 2020\n",
              "7   Effectively practice a 5-10 minute group prese...  ...  Programming Log © 2020\n",
              "8                       Cheesy Garlic Brussel Sprouts  ...  Programming Log © 2020\n",
              "9        How to get started on a programming exercise  ...  Programming Log © 2020\n",
              "10                              Breaths of fresh air!  ...  Programming Log © 2020\n",
              "\n",
              "[11 rows x 8 columns]"
            ]
          },
          "metadata": {
            "tags": []
          },
          "execution_count": 59
        }
      ]
    }
  ]
}