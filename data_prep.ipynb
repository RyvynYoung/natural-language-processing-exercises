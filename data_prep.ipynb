{
 "cells": [
  {
   "cell_type": "markdown",
   "metadata": {},
   "source": [
    "# Exercises\n",
    "The end result of this exercise should be a file named prepare.py that defines the requested functions.\n",
    "\n",
    "In this exercise we will be defining some functions to prepare textual data. These functions should apply equally well to both the codeup blog articles and the news articles that were previously acquired."
   ]
  },
  {
   "cell_type": "code",
   "execution_count": 1,
   "metadata": {},
   "outputs": [],
   "source": [
    "import unicodedata\n",
    "import re\n",
    "import json\n",
    "\n",
    "import nltk\n",
    "from nltk.tokenize.toktok import ToktokTokenizer\n",
    "from nltk.corpus import stopwords\n",
    "\n",
    "import pandas as pd\n",
    "\n",
    "import acquire"
   ]
  },
  {
   "cell_type": "code",
   "execution_count": 3,
   "metadata": {},
   "outputs": [
    {
     "data": {
      "text/html": [
       "<div>\n",
       "<style scoped>\n",
       "    .dataframe tbody tr th:only-of-type {\n",
       "        vertical-align: middle;\n",
       "    }\n",
       "\n",
       "    .dataframe tbody tr th {\n",
       "        vertical-align: top;\n",
       "    }\n",
       "\n",
       "    .dataframe thead th {\n",
       "        text-align: right;\n",
       "    }\n",
       "</style>\n",
       "<table border=\"1\" class=\"dataframe\">\n",
       "  <thead>\n",
       "    <tr style=\"text-align: right;\">\n",
       "      <th></th>\n",
       "      <th>topic</th>\n",
       "      <th>title</th>\n",
       "      <th>author</th>\n",
       "      <th>content</th>\n",
       "    </tr>\n",
       "  </thead>\n",
       "  <tbody>\n",
       "    <tr>\n",
       "      <th>0</th>\n",
       "      <td>business</td>\n",
       "      <td>Moderna's early data shows its COVID-19 vaccin...</td>\n",
       "      <td>Pragya Swastik</td>\n",
       "      <td>American biotechnology company Moderna on Mond...</td>\n",
       "    </tr>\n",
       "    <tr>\n",
       "      <th>1</th>\n",
       "      <td>business</td>\n",
       "      <td>15 countries sign world's biggest free-trade p...</td>\n",
       "      <td>Pragya Swastik</td>\n",
       "      <td>Fifteen Asia-Pacific countries signed the Regi...</td>\n",
       "    </tr>\n",
       "    <tr>\n",
       "      <th>2</th>\n",
       "      <td>business</td>\n",
       "      <td>How does Moderna's COVID-19 vaccine candidate ...</td>\n",
       "      <td>Pragya Swastik</td>\n",
       "      <td>Moderna's initial results of late-stage trial ...</td>\n",
       "    </tr>\n",
       "    <tr>\n",
       "      <th>3</th>\n",
       "      <td>business</td>\n",
       "      <td>Reduce foreign funding to 26% by Oct 15, 2021:...</td>\n",
       "      <td>Pragya Swastik</td>\n",
       "      <td>The I&amp;B Ministry on Monday asked digital media...</td>\n",
       "    </tr>\n",
       "    <tr>\n",
       "      <th>4</th>\n",
       "      <td>business</td>\n",
       "      <td>Reliance Retail buys 96% stake in Urban Ladder...</td>\n",
       "      <td>Rishabh Bhatnagar</td>\n",
       "      <td>Reliance Industries' retail arm Reliance Retai...</td>\n",
       "    </tr>\n",
       "    <tr>\n",
       "      <th>...</th>\n",
       "      <td>...</td>\n",
       "      <td>...</td>\n",
       "      <td>...</td>\n",
       "      <td>...</td>\n",
       "    </tr>\n",
       "    <tr>\n",
       "      <th>94</th>\n",
       "      <td>entertainment</td>\n",
       "      <td>Women are not offered cliched roles like befor...</td>\n",
       "      <td>Kriti Sharma</td>\n",
       "      <td>Actress Samantha Akkineni, who will star in th...</td>\n",
       "    </tr>\n",
       "    <tr>\n",
       "      <th>95</th>\n",
       "      <td>entertainment</td>\n",
       "      <td>Feel like you've gone for a long shoot: Irrfan...</td>\n",
       "      <td>Kriti Sharma</td>\n",
       "      <td>Irrfan Khan's son Babil Khan, on Sunday, poste...</td>\n",
       "    </tr>\n",
       "    <tr>\n",
       "      <th>96</th>\n",
       "      <td>entertainment</td>\n",
       "      <td>We decided to have the baby in Canada: Karanvi...</td>\n",
       "      <td>Kriti Sharma</td>\n",
       "      <td>Television actor Karanvir Bohra and his wife T...</td>\n",
       "    </tr>\n",
       "    <tr>\n",
       "      <th>97</th>\n",
       "      <td>entertainment</td>\n",
       "      <td>Aditya made me feel comfortable on the sets of...</td>\n",
       "      <td>Kriti Sharma</td>\n",
       "      <td>Speaking about her experience of working with ...</td>\n",
       "    </tr>\n",
       "    <tr>\n",
       "      <th>98</th>\n",
       "      <td>entertainment</td>\n",
       "      <td>Embassy of India in France pays tribute to Sou...</td>\n",
       "      <td>Kriti Sharma</td>\n",
       "      <td>Embassy of India in France paid tribute to act...</td>\n",
       "    </tr>\n",
       "  </tbody>\n",
       "</table>\n",
       "<p>99 rows × 4 columns</p>\n",
       "</div>"
      ],
      "text/plain": [
       "            topic                                              title  \\\n",
       "0        business  Moderna's early data shows its COVID-19 vaccin...   \n",
       "1        business  15 countries sign world's biggest free-trade p...   \n",
       "2        business  How does Moderna's COVID-19 vaccine candidate ...   \n",
       "3        business  Reduce foreign funding to 26% by Oct 15, 2021:...   \n",
       "4        business  Reliance Retail buys 96% stake in Urban Ladder...   \n",
       "..            ...                                                ...   \n",
       "94  entertainment  Women are not offered cliched roles like befor...   \n",
       "95  entertainment  Feel like you've gone for a long shoot: Irrfan...   \n",
       "96  entertainment  We decided to have the baby in Canada: Karanvi...   \n",
       "97  entertainment  Aditya made me feel comfortable on the sets of...   \n",
       "98  entertainment  Embassy of India in France pays tribute to Sou...   \n",
       "\n",
       "               author                                            content  \n",
       "0      Pragya Swastik  American biotechnology company Moderna on Mond...  \n",
       "1      Pragya Swastik  Fifteen Asia-Pacific countries signed the Regi...  \n",
       "2      Pragya Swastik  Moderna's initial results of late-stage trial ...  \n",
       "3      Pragya Swastik  The I&B Ministry on Monday asked digital media...  \n",
       "4   Rishabh Bhatnagar  Reliance Industries' retail arm Reliance Retai...  \n",
       "..                ...                                                ...  \n",
       "94       Kriti Sharma  Actress Samantha Akkineni, who will star in th...  \n",
       "95       Kriti Sharma  Irrfan Khan's son Babil Khan, on Sunday, poste...  \n",
       "96       Kriti Sharma  Television actor Karanvir Bohra and his wife T...  \n",
       "97       Kriti Sharma  Speaking about her experience of working with ...  \n",
       "98       Kriti Sharma  Embassy of India in France paid tribute to act...  \n",
       "\n",
       "[99 rows x 4 columns]"
      ]
     },
     "execution_count": 3,
     "metadata": {},
     "output_type": "execute_result"
    }
   ],
   "source": [
    "# get a string of text to test\n",
    "news_df = acquire.get_news_articles(cached=False)\n",
    "news_df.head()"
   ]
  },
  {
   "cell_type": "code",
   "execution_count": 4,
   "metadata": {},
   "outputs": [
    {
     "data": {
      "text/plain": [
       "\"American biotechnology company Moderna on Monday announced its experimental vaccine was 94.5% effective in preventing COVID-19 based on interim data from a late-stage clinical trial. Moderna's interim analysis was based on 95 infections among trial participants who received either a placebo or the vaccine. Among those, only five infections occurred in those who received the vaccine.\""
      ]
     },
     "execution_count": 4,
     "metadata": {},
     "output_type": "execute_result"
    }
   ],
   "source": [
    "sstring = news_df.content[0]\n",
    "sstring"
   ]
  },
  {
   "cell_type": "markdown",
   "metadata": {},
   "source": [
    "1. Define a function named basic_clean. It should take in a string and apply some basic text cleaning to it:\n",
    "- Lowercase everything\n",
    "- Normalize unicode characters\n",
    "- Replace anything that is not a letter, number, whitespace or a single quote."
   ]
  },
  {
   "cell_type": "code",
   "execution_count": 5,
   "metadata": {},
   "outputs": [],
   "source": [
    "def basic_clean(text):\n",
    "    '''\n",
    "    Initial basic cleaning/normalization of text string\n",
    "    '''\n",
    "    # change to all lowercase\n",
    "    low_case = text.lower()\n",
    "    # remove special characters, encode to ascii and recode to utf-8\n",
    "    recode = unicodedata.normalize('NFKD', low_case).encode('ascii', 'ignore').decode('utf-8', 'ignore')\n",
    "    # Replace anything that is not a letter, number, whitespace or a single quote\n",
    "    cleaned = re.sub(r\"[^a-z0-9'\\s]\", '', recode)\n",
    "    return cleaned"
   ]
  },
  {
   "cell_type": "code",
   "execution_count": 6,
   "metadata": {},
   "outputs": [
    {
     "data": {
      "text/plain": [
       "\"american biotechnology company moderna on monday announced its experimental vaccine was 945 effective in preventing covid19 based on interim data from a latestage clinical trial moderna's interim analysis was based on 95 infections among trial participants who received either a placebo or the vaccine among those only five infections occurred in those who received the vaccine\""
      ]
     },
     "execution_count": 6,
     "metadata": {},
     "output_type": "execute_result"
    }
   ],
   "source": [
    "clean_string = basic_clean(sstring)\n",
    "clean_string"
   ]
  },
  {
   "cell_type": "markdown",
   "metadata": {},
   "source": [
    "2. Define a function named tokenize. It should take in a string and tokenize all the words in the string."
   ]
  },
  {
   "cell_type": "code",
   "execution_count": 7,
   "metadata": {},
   "outputs": [],
   "source": [
    "def tokenize(text):\n",
    "    '''\n",
    "    Use NLTK TlktokTokenizer to seperate/tokenize text\n",
    "    '''\n",
    "    # create the NLTK tokenizer object\n",
    "    tokenizer = nltk.tokenize.ToktokTokenizer()\n",
    "    return tokenizer.tokenize(text, return_str=True)"
   ]
  },
  {
   "cell_type": "code",
   "execution_count": 8,
   "metadata": {},
   "outputs": [
    {
     "data": {
      "text/plain": [
       "\"american biotechnology company moderna on monday announced its experimental vaccine was 945 effective in preventing covid19 based on interim data from a latestage clinical trial moderna ' s interim analysis was based on 95 infections among trial participants who received either a placebo or the vaccine among those only five infections occurred in those who received the vaccine\""
      ]
     },
     "execution_count": 8,
     "metadata": {},
     "output_type": "execute_result"
    }
   ],
   "source": [
    "tokenized = tokenize(clean_string)\n",
    "tokenized"
   ]
  },
  {
   "cell_type": "markdown",
   "metadata": {},
   "source": [
    "3. Define a function named stem. It should accept some text and return the text after applying stemming to all the words."
   ]
  },
  {
   "cell_type": "code",
   "execution_count": 11,
   "metadata": {},
   "outputs": [],
   "source": [
    "def stem(text):\n",
    "    '''\n",
    "    Apply NLTK stemming to text to remove prefix and suffixes\n",
    "    '''\n",
    "    # Create the nltk stemmer object, then use it\n",
    "    ps = nltk.porter.PorterStemmer()\n",
    "    stems = [ps.stem(word) for word in text.split()]\n",
    "    article_stemmed = ' '.join(stems)\n",
    "    return article_stemmed\n"
   ]
  },
  {
   "cell_type": "code",
   "execution_count": 12,
   "metadata": {},
   "outputs": [
    {
     "data": {
      "text/plain": [
       "\"american biotechnolog compani moderna on monday announc it experiment vaccin wa 945 effect in prevent covid19 base on interim data from a latestag clinic trial moderna ' s interim analysi wa base on 95 infect among trial particip who receiv either a placebo or the vaccin among those onli five infect occur in those who receiv the vaccin\""
      ]
     },
     "execution_count": 12,
     "metadata": {},
     "output_type": "execute_result"
    }
   ],
   "source": [
    "stemmed = stem(tokenized)\n",
    "stemmed"
   ]
  },
  {
   "cell_type": "markdown",
   "metadata": {},
   "source": [
    "4. Define a function named lemmatize. It should accept some text and return the text after applying lemmatization to each word."
   ]
  },
  {
   "cell_type": "code",
   "execution_count": 21,
   "metadata": {},
   "outputs": [],
   "source": [
    "def lemmatize(text):\n",
    "    '''\n",
    "    Apply NLTK lemmatizing to text to remove prefix and suffixes\n",
    "    '''\n",
    "    # Create the nltk lemmatize object, then use it\n",
    "    wnl = nltk.stem.WordNetLemmatizer()\n",
    "    lemmas = [wnl.lemmatize(word) for word in text.split()]\n",
    "    article_lemmatized = ' '.join(lemmas)\n",
    "    return article_lemmatized"
   ]
  },
  {
   "cell_type": "code",
   "execution_count": 22,
   "metadata": {},
   "outputs": [
    {
     "data": {
      "text/plain": [
       "\"american biotechnology company moderna on monday announced it experimental vaccine wa 945 effective in preventing covid19 based on interim data from a latestage clinical trial moderna ' s interim analysis wa based on 95 infection among trial participant who received either a placebo or the vaccine among those only five infection occurred in those who received the vaccine\""
      ]
     },
     "execution_count": 22,
     "metadata": {},
     "output_type": "execute_result"
    }
   ],
   "source": [
    "article_lemmatized = lemmatize(tokenized)\n",
    "article_lemmatized"
   ]
  },
  {
   "cell_type": "markdown",
   "metadata": {},
   "source": [
    "5. Define a function named remove_stopwords. It should accept some text and return the text after removing all the stopwords.     \n",
    "This function should define two optional parameters, extra_words and exclude_words. These parameters should define any additional stop words to include, and any words that we don't want to remove."
   ]
  },
  {
   "cell_type": "code",
   "execution_count": 40,
   "metadata": {},
   "outputs": [],
   "source": [
    "def remove_stopwords(text, extra_words=[], exclude_words=[]):\n",
    "    '''\n",
    "    Removes stopwords from text, allows for additional words to exclude, or words to not exclude\n",
    "    '''\n",
    "    # define initial stopwords list\n",
    "    stopword_list = stopwords.words('english')\n",
    "    # add additional stopwords\n",
    "    for word in extra_words:\n",
    "        stopword_list.append(word)\n",
    "    # remove stopwords to exclude from stopword list\n",
    "    for word in exclude_words:\n",
    "        stopword_list.remove(word)\n",
    "    # split the string into words\n",
    "    words = text.split()\n",
    "    # filter the words\n",
    "    filtered_words = [w for w in words if w not in stopword_list]\n",
    "    # print number of stopwords removed\n",
    "    print('Removed {} stopwords'.format(len(words) - len(filtered_words)))\n",
    "    # produce string without stopwords\n",
    "    article_without_stopwords = ' '.join(filtered_words)\n",
    "    return article_without_stopwords"
   ]
  },
  {
   "cell_type": "code",
   "execution_count": 41,
   "metadata": {},
   "outputs": [
    {
     "name": "stdout",
     "output_type": "stream",
     "text": [
      "Removed 17 stopwords\n"
     ]
    }
   ],
   "source": [
    "remove_words2 = remove_stopwords(stemmed)"
   ]
  },
  {
   "cell_type": "code",
   "execution_count": 34,
   "metadata": {},
   "outputs": [
    {
     "name": "stdout",
     "output_type": "stream",
     "text": [
      "Removed 18 stopwords\n"
     ]
    },
    {
     "data": {
      "text/plain": [
       "\"american biotechnology company moderna monday announced experimental vaccine wa 945 effective preventing covid19 based interim data latestage clinical trial moderna ' interim analysis wa based 95 infection among trial participant received either placebo vaccine among five infection occurred received vaccine\""
      ]
     },
     "execution_count": 34,
     "metadata": {},
     "output_type": "execute_result"
    }
   ],
   "source": [
    "extra_words = ['USAA', 'Codeup']\n",
    "exclude_words = ['no', 'not']\n",
    "remove_words1 = remove_stopwords(article_lemmatized, extra_words, exclude_words)\n",
    "remove_words1"
   ]
  },
  {
   "cell_type": "markdown",
   "metadata": {},
   "source": [
    "6. Use your data from the acquire to produce a dataframe of the news articles. Name the dataframe news_df."
   ]
  },
  {
   "cell_type": "code",
   "execution_count": 35,
   "metadata": {},
   "outputs": [
    {
     "data": {
      "text/html": [
       "<div>\n",
       "<style scoped>\n",
       "    .dataframe tbody tr th:only-of-type {\n",
       "        vertical-align: middle;\n",
       "    }\n",
       "\n",
       "    .dataframe tbody tr th {\n",
       "        vertical-align: top;\n",
       "    }\n",
       "\n",
       "    .dataframe thead th {\n",
       "        text-align: right;\n",
       "    }\n",
       "</style>\n",
       "<table border=\"1\" class=\"dataframe\">\n",
       "  <thead>\n",
       "    <tr style=\"text-align: right;\">\n",
       "      <th></th>\n",
       "      <th>topic</th>\n",
       "      <th>title</th>\n",
       "      <th>author</th>\n",
       "      <th>content</th>\n",
       "    </tr>\n",
       "  </thead>\n",
       "  <tbody>\n",
       "    <tr>\n",
       "      <th>0</th>\n",
       "      <td>business</td>\n",
       "      <td>Moderna's early data shows its COVID-19 vaccin...</td>\n",
       "      <td>Pragya Swastik</td>\n",
       "      <td>American biotechnology company Moderna on Mond...</td>\n",
       "    </tr>\n",
       "    <tr>\n",
       "      <th>1</th>\n",
       "      <td>business</td>\n",
       "      <td>15 countries sign world's biggest free-trade p...</td>\n",
       "      <td>Pragya Swastik</td>\n",
       "      <td>Fifteen Asia-Pacific countries signed the Regi...</td>\n",
       "    </tr>\n",
       "    <tr>\n",
       "      <th>2</th>\n",
       "      <td>business</td>\n",
       "      <td>How does Moderna's COVID-19 vaccine candidate ...</td>\n",
       "      <td>Pragya Swastik</td>\n",
       "      <td>Moderna's initial results of late-stage trial ...</td>\n",
       "    </tr>\n",
       "    <tr>\n",
       "      <th>3</th>\n",
       "      <td>business</td>\n",
       "      <td>Reduce foreign funding to 26% by Oct 15, 2021:...</td>\n",
       "      <td>Pragya Swastik</td>\n",
       "      <td>The I&amp;B Ministry on Monday asked digital media...</td>\n",
       "    </tr>\n",
       "    <tr>\n",
       "      <th>4</th>\n",
       "      <td>business</td>\n",
       "      <td>Reliance Retail buys 96% stake in Urban Ladder...</td>\n",
       "      <td>Rishabh Bhatnagar</td>\n",
       "      <td>Reliance Industries' retail arm Reliance Retai...</td>\n",
       "    </tr>\n",
       "    <tr>\n",
       "      <th>...</th>\n",
       "      <td>...</td>\n",
       "      <td>...</td>\n",
       "      <td>...</td>\n",
       "      <td>...</td>\n",
       "    </tr>\n",
       "    <tr>\n",
       "      <th>94</th>\n",
       "      <td>entertainment</td>\n",
       "      <td>Women are not offered cliched roles like befor...</td>\n",
       "      <td>Kriti Sharma</td>\n",
       "      <td>Actress Samantha Akkineni, who will star in th...</td>\n",
       "    </tr>\n",
       "    <tr>\n",
       "      <th>95</th>\n",
       "      <td>entertainment</td>\n",
       "      <td>Feel like you've gone for a long shoot: Irrfan...</td>\n",
       "      <td>Kriti Sharma</td>\n",
       "      <td>Irrfan Khan's son Babil Khan, on Sunday, poste...</td>\n",
       "    </tr>\n",
       "    <tr>\n",
       "      <th>96</th>\n",
       "      <td>entertainment</td>\n",
       "      <td>We decided to have the baby in Canada: Karanvi...</td>\n",
       "      <td>Kriti Sharma</td>\n",
       "      <td>Television actor Karanvir Bohra and his wife T...</td>\n",
       "    </tr>\n",
       "    <tr>\n",
       "      <th>97</th>\n",
       "      <td>entertainment</td>\n",
       "      <td>Aditya made me feel comfortable on the sets of...</td>\n",
       "      <td>Kriti Sharma</td>\n",
       "      <td>Speaking about her experience of working with ...</td>\n",
       "    </tr>\n",
       "    <tr>\n",
       "      <th>98</th>\n",
       "      <td>entertainment</td>\n",
       "      <td>Embassy of India in France pays tribute to Sou...</td>\n",
       "      <td>Kriti Sharma</td>\n",
       "      <td>Embassy of India in France paid tribute to act...</td>\n",
       "    </tr>\n",
       "  </tbody>\n",
       "</table>\n",
       "<p>99 rows × 4 columns</p>\n",
       "</div>"
      ],
      "text/plain": [
       "            topic                                              title  \\\n",
       "0        business  Moderna's early data shows its COVID-19 vaccin...   \n",
       "1        business  15 countries sign world's biggest free-trade p...   \n",
       "2        business  How does Moderna's COVID-19 vaccine candidate ...   \n",
       "3        business  Reduce foreign funding to 26% by Oct 15, 2021:...   \n",
       "4        business  Reliance Retail buys 96% stake in Urban Ladder...   \n",
       "..            ...                                                ...   \n",
       "94  entertainment  Women are not offered cliched roles like befor...   \n",
       "95  entertainment  Feel like you've gone for a long shoot: Irrfan...   \n",
       "96  entertainment  We decided to have the baby in Canada: Karanvi...   \n",
       "97  entertainment  Aditya made me feel comfortable on the sets of...   \n",
       "98  entertainment  Embassy of India in France pays tribute to Sou...   \n",
       "\n",
       "               author                                            content  \n",
       "0      Pragya Swastik  American biotechnology company Moderna on Mond...  \n",
       "1      Pragya Swastik  Fifteen Asia-Pacific countries signed the Regi...  \n",
       "2      Pragya Swastik  Moderna's initial results of late-stage trial ...  \n",
       "3      Pragya Swastik  The I&B Ministry on Monday asked digital media...  \n",
       "4   Rishabh Bhatnagar  Reliance Industries' retail arm Reliance Retai...  \n",
       "..                ...                                                ...  \n",
       "94       Kriti Sharma  Actress Samantha Akkineni, who will star in th...  \n",
       "95       Kriti Sharma  Irrfan Khan's son Babil Khan, on Sunday, poste...  \n",
       "96       Kriti Sharma  Television actor Karanvir Bohra and his wife T...  \n",
       "97       Kriti Sharma  Speaking about her experience of working with ...  \n",
       "98       Kriti Sharma  Embassy of India in France paid tribute to act...  \n",
       "\n",
       "[99 rows x 4 columns]"
      ]
     },
     "execution_count": 35,
     "metadata": {},
     "output_type": "execute_result"
    }
   ],
   "source": [
    "news_df"
   ]
  },
  {
   "cell_type": "markdown",
   "metadata": {},
   "source": [
    "7. Make another dataframe for the Codeup blog posts. Name the dataframe codeup_df."
   ]
  },
  {
   "cell_type": "code",
   "execution_count": 38,
   "metadata": {},
   "outputs": [
    {
     "data": {
      "text/html": [
       "<div>\n",
       "<style scoped>\n",
       "    .dataframe tbody tr th:only-of-type {\n",
       "        vertical-align: middle;\n",
       "    }\n",
       "\n",
       "    .dataframe tbody tr th {\n",
       "        vertical-align: top;\n",
       "    }\n",
       "\n",
       "    .dataframe thead th {\n",
       "        text-align: right;\n",
       "    }\n",
       "</style>\n",
       "<table border=\"1\" class=\"dataframe\">\n",
       "  <thead>\n",
       "    <tr style=\"text-align: right;\">\n",
       "      <th></th>\n",
       "      <th>title</th>\n",
       "      <th>content</th>\n",
       "    </tr>\n",
       "  </thead>\n",
       "  <tbody>\n",
       "    <tr>\n",
       "      <th>0</th>\n",
       "      <td>Codeup Launches Houston!</td>\n",
       "      <td>Houston, we have a problem: there aren’t enoug...</td>\n",
       "    </tr>\n",
       "    <tr>\n",
       "      <th>1</th>\n",
       "      <td>How to Succeed in a Coding Bootcamp</td>\n",
       "      <td>We held a virtual event called “How to Succeed...</td>\n",
       "    </tr>\n",
       "    <tr>\n",
       "      <th>2</th>\n",
       "      <td>What is Python?</td>\n",
       "      <td>If you’ve been digging around our website or r...</td>\n",
       "    </tr>\n",
       "    <tr>\n",
       "      <th>3</th>\n",
       "      <td>How Codeup Alumni are Helping to Make Water</td>\n",
       "      <td>Imagine having a kit mailed to you with all th...</td>\n",
       "    </tr>\n",
       "    <tr>\n",
       "      <th>4</th>\n",
       "      <td>What to Expect at Codeup</td>\n",
       "      <td>Setting Expectations for Life Before, During, ...</td>\n",
       "    </tr>\n",
       "  </tbody>\n",
       "</table>\n",
       "</div>"
      ],
      "text/plain": [
       "                                         title  \\\n",
       "0                     Codeup Launches Houston!   \n",
       "1          How to Succeed in a Coding Bootcamp   \n",
       "2                              What is Python?   \n",
       "3  How Codeup Alumni are Helping to Make Water   \n",
       "4                     What to Expect at Codeup   \n",
       "\n",
       "                                             content  \n",
       "0  Houston, we have a problem: there aren’t enoug...  \n",
       "1  We held a virtual event called “How to Succeed...  \n",
       "2  If you’ve been digging around our website or r...  \n",
       "3  Imagine having a kit mailed to you with all th...  \n",
       "4  Setting Expectations for Life Before, During, ...  "
      ]
     },
     "execution_count": 38,
     "metadata": {},
     "output_type": "execute_result"
    }
   ],
   "source": [
    "urls = acquire.get_all_urls()\n",
    "codeup_df = acquire.get_blog_articles(urls, cached=False)\n",
    "codeup_df.head()"
   ]
  },
  {
   "cell_type": "markdown",
   "metadata": {},
   "source": [
    "8. For each dataframe, produce the following columns:\n",
    "- title to hold the title\n",
    "- original to hold the original article/post content\n",
    "- clean to hold the normalized and tokenized original with the stopwords removed.\n",
    "- stemmed to hold the stemmed version of the cleaned data.\n",
    "- lemmatized to hold the lemmatized version of the cleaned data."
   ]
  },
  {
   "cell_type": "code",
   "execution_count": null,
   "metadata": {},
   "outputs": [],
   "source": [
    "codeup_df.content[x]"
   ]
  },
  {
   "cell_type": "code",
   "execution_count": null,
   "metadata": {},
   "outputs": [],
   "source": [
    "# only got here before walkthrough"
   ]
  },
  {
   "cell_type": "code",
   "execution_count": null,
   "metadata": {},
   "outputs": [],
   "source": []
  },
  {
   "cell_type": "markdown",
   "metadata": {},
   "source": [
    "9. Ask yourself:\n",
    "- If your corpus is 493KB, would you prefer to use stemmed or lemmatized text?\n",
    "    - lemmatize\n",
    "- If your corpus is 25MB, would you prefer to use stemmed or lemmatized text?\n",
    "    - either\n",
    "- If your corpus is 200TB of text and you're charged by the megabyte for your hosted computational resources, would you prefer to use stemmed or lemmatized text?\n",
    "    - stemmed"
   ]
  },
  {
   "cell_type": "code",
   "execution_count": 20,
   "metadata": {},
   "outputs": [
    {
     "name": "stderr",
     "output_type": "stream",
     "text": [
      "[nltk_data] Downloading package wordnet to /Users/ryvyny/nltk_data...\n",
      "[nltk_data]   Unzipping corpora/wordnet.zip.\n"
     ]
    },
    {
     "data": {
      "text/plain": [
       "True"
      ]
     },
     "execution_count": 20,
     "metadata": {},
     "output_type": "execute_result"
    }
   ],
   "source": [
    "nltk.download('wordnet')"
   ]
  },
  {
   "cell_type": "code",
   "execution_count": null,
   "metadata": {},
   "outputs": [],
   "source": []
  }
 ],
 "metadata": {
  "kernelspec": {
   "display_name": "Python 3",
   "language": "python",
   "name": "python3"
  },
  "language_info": {
   "codemirror_mode": {
    "name": "ipython",
    "version": 3
   },
   "file_extension": ".py",
   "mimetype": "text/x-python",
   "name": "python",
   "nbconvert_exporter": "python",
   "pygments_lexer": "ipython3",
   "version": "3.7.9"
  },
  "toc": {
   "base_numbering": 1,
   "nav_menu": {},
   "number_sections": true,
   "sideBar": true,
   "skip_h1_title": false,
   "title_cell": "Table of Contents",
   "title_sidebar": "Contents",
   "toc_cell": false,
   "toc_position": {},
   "toc_section_display": true,
   "toc_window_display": false
  }
 },
 "nbformat": 4,
 "nbformat_minor": 4
}
